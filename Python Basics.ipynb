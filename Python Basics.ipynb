{
  "cells": [
    {
      "cell_type": "code",
      "execution_count": null,
      "id": "9c73401d",
      "metadata": {
        "id": "9c73401d"
      },
      "outputs": [],
      "source": [
        "PYTHON BASICS"
      ]
    },
    {
      "cell_type": "markdown",
      "id": "d3ae0255",
      "metadata": {
        "id": "d3ae0255"
      },
      "source": [
        "# VARIABLE"
      ]
    },
    {
      "cell_type": "code",
      "execution_count": 3,
      "id": "2cf5cfa3",
      "metadata": {
        "colab": {
          "base_uri": "https://localhost:8080/"
        },
        "id": "2cf5cfa3",
        "outputId": "b53bebce-a422-48da-f2d4-eed3718007de"
      },
      "outputs": [
        {
          "output_type": "stream",
          "name": "stdout",
          "text": [
            "python\n"
          ]
        }
      ],
      "source": [
        "New=('python')\n",
        "print(New)"
      ]
    },
    {
      "cell_type": "code",
      "execution_count": 4,
      "id": "650b0436",
      "metadata": {
        "colab": {
          "base_uri": "https://localhost:8080/"
        },
        "id": "650b0436",
        "outputId": "9cc85085-e003-485c-803c-4355b5c71966"
      },
      "outputs": [
        {
          "output_type": "execute_result",
          "data": {
            "text/plain": [
              "str"
            ]
          },
          "metadata": {},
          "execution_count": 4
        }
      ],
      "source": [
        "type(New)"
      ]
    },
    {
      "cell_type": "code",
      "execution_count": 6,
      "id": "557518af",
      "metadata": {
        "colab": {
          "base_uri": "https://localhost:8080/"
        },
        "id": "557518af",
        "outputId": "afeaf387-e2b3-47e9-e277-16bad8d442c5"
      },
      "outputs": [
        {
          "output_type": "stream",
          "name": "stdout",
          "text": [
            "25\n"
          ]
        }
      ],
      "source": [
        "age=25\n",
        "print(age)"
      ]
    },
    {
      "cell_type": "code",
      "source": [
        "age='78'\n",
        "print(age)"
      ],
      "metadata": {
        "colab": {
          "base_uri": "https://localhost:8080/"
        },
        "id": "iTULy25-TLFi",
        "outputId": "85577060-d74f-49ea-b85d-52d9794a01fb"
      },
      "id": "iTULy25-TLFi",
      "execution_count": 7,
      "outputs": [
        {
          "output_type": "stream",
          "name": "stdout",
          "text": [
            "78\n"
          ]
        }
      ]
    },
    {
      "cell_type": "code",
      "execution_count": 8,
      "id": "a84ffad7",
      "metadata": {
        "colab": {
          "base_uri": "https://localhost:8080/"
        },
        "id": "a84ffad7",
        "outputId": "b6868e8d-ccd6-4d5a-ae25-f270729104de"
      },
      "outputs": [
        {
          "output_type": "execute_result",
          "data": {
            "text/plain": [
              "str"
            ]
          },
          "metadata": {},
          "execution_count": 8
        }
      ],
      "source": [
        "type(age)"
      ]
    },
    {
      "cell_type": "code",
      "execution_count": 23,
      "id": "5f76c641",
      "metadata": {
        "colab": {
          "base_uri": "https://localhost:8080/",
          "height": 146
        },
        "id": "5f76c641",
        "outputId": "f604682c-925e-4811-c0d8-0f0012783835"
      },
      "outputs": [
        {
          "output_type": "error",
          "ename": "NameError",
          "evalue": "name 'age' is not defined",
          "traceback": [
            "\u001b[0;31m---------------------------------------------------------------------------\u001b[0m",
            "\u001b[0;31mNameError\u001b[0m                                 Traceback (most recent call last)",
            "\u001b[0;32m/tmp/ipython-input-23-2666390966.py\u001b[0m in \u001b[0;36m<cell line: 0>\u001b[0;34m()\u001b[0m\n\u001b[0;32m----> 1\u001b[0;31m \u001b[0mage\u001b[0m\u001b[0;34m+\u001b[0m\u001b[0;36m4\u001b[0m\u001b[0;34m\u001b[0m\u001b[0;34m\u001b[0m\u001b[0m\n\u001b[0m",
            "\u001b[0;31mNameError\u001b[0m: name 'age' is not defined"
          ]
        }
      ],
      "source": [
        "age+4"
      ]
    },
    {
      "cell_type": "code",
      "execution_count": null,
      "id": "7243ebd6",
      "metadata": {
        "id": "7243ebd6"
      },
      "outputs": [],
      "source": [
        ""
      ]
    },
    {
      "cell_type": "code",
      "execution_count": 24,
      "id": "74ca2cf2",
      "metadata": {
        "colab": {
          "base_uri": "https://localhost:8080/"
        },
        "id": "74ca2cf2",
        "outputId": "8ebe2183-9474-4381-a983-f925f41b85d9"
      },
      "outputs": [
        {
          "output_type": "stream",
          "name": "stdout",
          "text": [
            "25\n"
          ]
        }
      ],
      "source": [
        "age=25\n",
        "print(age)"
      ]
    },
    {
      "cell_type": "code",
      "execution_count": 25,
      "id": "cffa4da9",
      "metadata": {
        "colab": {
          "base_uri": "https://localhost:8080/"
        },
        "id": "cffa4da9",
        "outputId": "33e2a7cc-9b2f-4ff1-c373-df44539294ee"
      },
      "outputs": [
        {
          "output_type": "execute_result",
          "data": {
            "text/plain": [
              "int"
            ]
          },
          "metadata": {},
          "execution_count": 25
        }
      ],
      "source": [
        "type(age)"
      ]
    },
    {
      "cell_type": "code",
      "execution_count": 26,
      "id": "95306863",
      "metadata": {
        "colab": {
          "base_uri": "https://localhost:8080/"
        },
        "id": "95306863",
        "outputId": "1016cbe9-2929-4e8c-f73e-b694c3a47e9d"
      },
      "outputs": [
        {
          "output_type": "execute_result",
          "data": {
            "text/plain": [
              "32"
            ]
          },
          "metadata": {},
          "execution_count": 26
        }
      ],
      "source": [
        "age+7"
      ]
    },
    {
      "cell_type": "markdown",
      "id": "45e24bd6",
      "metadata": {
        "id": "45e24bd6"
      },
      "source": [
        "# ----------------------------------------------------------------------------------------------------------------"
      ]
    },
    {
      "cell_type": "code",
      "execution_count": null,
      "id": "f4e51ced",
      "metadata": {
        "id": "f4e51ced"
      },
      "outputs": [],
      "source": []
    },
    {
      "cell_type": "code",
      "execution_count": 32,
      "id": "f830cf88",
      "metadata": {
        "colab": {
          "base_uri": "https://localhost:8080/"
        },
        "id": "f830cf88",
        "outputId": "e0f4ae38-b3d1-40b9-e97b-b78f9e9d1a5e"
      },
      "outputs": [
        {
          "output_type": "stream",
          "name": "stdout",
          "text": [
            "24\n"
          ]
        }
      ],
      "source": [
        "x=24\n",
        "print(x)"
      ]
    },
    {
      "cell_type": "code",
      "execution_count": 34,
      "id": "7a8c9f40",
      "metadata": {
        "colab": {
          "base_uri": "https://localhost:8080/"
        },
        "id": "7a8c9f40",
        "outputId": "61416fe8-ed12-4cb9-8be6-dd51423d9ad1"
      },
      "outputs": [
        {
          "output_type": "execute_result",
          "data": {
            "text/plain": [
              "10758472"
            ]
          },
          "metadata": {},
          "execution_count": 34
        }
      ],
      "source": [
        "id(x)"
      ]
    },
    {
      "cell_type": "code",
      "execution_count": null,
      "id": "79a16bb7",
      "metadata": {
        "id": "79a16bb7",
        "outputId": "cc9a6d28-ec70-4d33-f68b-745210061280"
      },
      "outputs": [
        {
          "name": "stdout",
          "output_type": "stream",
          "text": [
            "25\n"
          ]
        }
      ],
      "source": [
        "y=25\n",
        "print(y)"
      ]
    },
    {
      "cell_type": "code",
      "execution_count": null,
      "id": "e0a747da",
      "metadata": {
        "id": "e0a747da",
        "outputId": "65ba1c08-706f-47d5-dbc0-b80871a7a025"
      },
      "outputs": [
        {
          "data": {
            "text/plain": [
              "140719398167712"
            ]
          },
          "execution_count": 18,
          "metadata": {},
          "output_type": "execute_result"
        }
      ],
      "source": [
        "id(y)"
      ]
    },
    {
      "cell_type": "code",
      "execution_count": null,
      "id": "5032df4e",
      "metadata": {
        "id": "5032df4e",
        "outputId": "302edb65-72e3-4444-f43f-37081527c1bc"
      },
      "outputs": [
        {
          "name": "stdout",
          "output_type": "stream",
          "text": [
            "26\n"
          ]
        }
      ],
      "source": [
        "z=26\n",
        "print(z)"
      ]
    },
    {
      "cell_type": "code",
      "execution_count": null,
      "id": "c06eab8d",
      "metadata": {
        "id": "c06eab8d",
        "outputId": "0ac09562-6806-4dcf-af6c-df8bc61f6a61"
      },
      "outputs": [
        {
          "data": {
            "text/plain": [
              "140719398167744"
            ]
          },
          "execution_count": 20,
          "metadata": {},
          "output_type": "execute_result"
        }
      ],
      "source": [
        "id(z)"
      ]
    },
    {
      "cell_type": "code",
      "execution_count": null,
      "id": "7ec1f3e0",
      "metadata": {
        "id": "7ec1f3e0"
      },
      "outputs": [],
      "source": [
        "w=x"
      ]
    },
    {
      "cell_type": "code",
      "execution_count": null,
      "id": "b647e505",
      "metadata": {
        "id": "b647e505",
        "outputId": "3146e656-a642-4363-a568-eed12c8fdd68"
      },
      "outputs": [
        {
          "data": {
            "text/plain": [
              "140719398167712"
            ]
          },
          "execution_count": 22,
          "metadata": {},
          "output_type": "execute_result"
        }
      ],
      "source": [
        "id(w)"
      ]
    },
    {
      "cell_type": "code",
      "execution_count": 35,
      "id": "cc579f96",
      "metadata": {
        "colab": {
          "base_uri": "https://localhost:8080/"
        },
        "id": "cc579f96",
        "outputId": "90026261-2479-4f56-f04a-0986df7edafe"
      },
      "outputs": [
        {
          "output_type": "stream",
          "name": "stdout",
          "text": [
            "jhj\n"
          ]
        },
        {
          "output_type": "execute_result",
          "data": {
            "text/plain": [
              "133469488501936"
            ]
          },
          "metadata": {},
          "execution_count": 35
        }
      ],
      "source": [
        "xy='jhj'\n",
        "print(xy)\n",
        "id(xy)"
      ]
    },
    {
      "cell_type": "code",
      "execution_count": 39,
      "id": "f5de1cb7",
      "metadata": {
        "colab": {
          "base_uri": "https://localhost:8080/"
        },
        "id": "f5de1cb7",
        "outputId": "41080fd0-c76f-444b-d3aa-696084d57f83"
      },
      "outputs": [
        {
          "output_type": "execute_result",
          "data": {
            "text/plain": [
              "133469488337072"
            ]
          },
          "metadata": {},
          "execution_count": 39
        }
      ],
      "source": [
        "w='dkmk'\n",
        "xy=w\n",
        "id(xy)"
      ]
    },
    {
      "cell_type": "markdown",
      "id": "e00f622e",
      "metadata": {
        "id": "e00f622e"
      },
      "source": [
        "# ----------------------------------------------------------------------------------------------------------------"
      ]
    },
    {
      "cell_type": "markdown",
      "id": "8ecc940c",
      "metadata": {
        "id": "8ecc940c"
      },
      "source": [
        "# Rules for variable"
      ]
    },
    {
      "cell_type": "markdown",
      "id": "591cbfab",
      "metadata": {
        "id": "591cbfab"
      },
      "source": [
        "# * var name cannot be python keyword"
      ]
    },
    {
      "cell_type": "code",
      "execution_count": 245,
      "id": "ce61144e",
      "metadata": {
        "colab": {
          "base_uri": "https://localhost:8080/"
        },
        "id": "ce61144e",
        "outputId": "fe20aee5-881c-40e3-9a8b-37d09780a418"
      },
      "outputs": [
        {
          "output_type": "execute_result",
          "data": {
            "text/plain": [
              "['False',\n",
              " 'None',\n",
              " 'True',\n",
              " 'and',\n",
              " 'as',\n",
              " 'assert',\n",
              " 'async',\n",
              " 'await',\n",
              " 'break',\n",
              " 'class',\n",
              " 'continue',\n",
              " 'def',\n",
              " 'del',\n",
              " 'elif',\n",
              " 'else',\n",
              " 'except',\n",
              " 'finally',\n",
              " 'for',\n",
              " 'from',\n",
              " 'global',\n",
              " 'if',\n",
              " 'import',\n",
              " 'in',\n",
              " 'is',\n",
              " 'lambda',\n",
              " 'nonlocal',\n",
              " 'not',\n",
              " 'or',\n",
              " 'pass',\n",
              " 'raise',\n",
              " 'return',\n",
              " 'try',\n",
              " 'while',\n",
              " 'with',\n",
              " 'yield']"
            ]
          },
          "metadata": {},
          "execution_count": 245
        }
      ],
      "source": [
        "import keyword\n",
        "keyword.kwlist"
      ]
    },
    {
      "cell_type": "code",
      "execution_count": null,
      "id": "8697e3fb",
      "metadata": {
        "id": "8697e3fb"
      },
      "outputs": [],
      "source": [
        "as=3"
      ]
    },
    {
      "cell_type": "code",
      "execution_count": null,
      "id": "016c42d5",
      "metadata": {
        "id": "016c42d5"
      },
      "outputs": [],
      "source": [
        "# print and exec not keyword from python 3+ , they are changed to built in fucntion"
      ]
    },
    {
      "cell_type": "code",
      "execution_count": null,
      "id": "519d9029",
      "metadata": {
        "id": "519d9029"
      },
      "outputs": [],
      "source": [
        "print=4"
      ]
    },
    {
      "cell_type": "code",
      "execution_count": null,
      "id": "ede68005",
      "metadata": {
        "id": "ede68005"
      },
      "outputs": [],
      "source": [
        "print"
      ]
    },
    {
      "cell_type": "code",
      "execution_count": null,
      "id": "dca547ac",
      "metadata": {
        "id": "dca547ac"
      },
      "outputs": [],
      "source": [
        "print(print)"
      ]
    },
    {
      "cell_type": "code",
      "execution_count": null,
      "id": "2c456030",
      "metadata": {
        "id": "2c456030"
      },
      "outputs": [],
      "source": [
        "#using keyword is not a good idea : if_"
      ]
    },
    {
      "cell_type": "markdown",
      "id": "cf8fc555",
      "metadata": {
        "id": "cf8fc555"
      },
      "source": [
        "# variable first character should be : letter or _"
      ]
    },
    {
      "cell_type": "code",
      "execution_count": null,
      "id": "3fde08e4",
      "metadata": {
        "id": "3fde08e4"
      },
      "outputs": [],
      "source": [
        "age=12"
      ]
    },
    {
      "cell_type": "code",
      "execution_count": null,
      "id": "8d2d068b",
      "metadata": {
        "id": "8d2d068b"
      },
      "outputs": [],
      "source": [
        "_age=12"
      ]
    },
    {
      "cell_type": "code",
      "execution_count": 43,
      "id": "65c33d57",
      "metadata": {
        "colab": {
          "base_uri": "https://localhost:8080/",
          "height": 110
        },
        "id": "65c33d57",
        "outputId": "c26b3a4d-5018-4938-edd7-ada88283c498"
      },
      "outputs": [
        {
          "output_type": "error",
          "ename": "SyntaxError",
          "evalue": "invalid decimal literal (ipython-input-43-3683473508.py, line 1)",
          "traceback": [
            "\u001b[0;36m  File \u001b[0;32m\"/tmp/ipython-input-43-3683473508.py\"\u001b[0;36m, line \u001b[0;32m1\u001b[0m\n\u001b[0;31m    22age=12\u001b[0m\n\u001b[0m     ^\u001b[0m\n\u001b[0;31mSyntaxError\u001b[0m\u001b[0;31m:\u001b[0m invalid decimal literal\n"
          ]
        }
      ],
      "source": [
        "22age=12"
      ]
    },
    {
      "cell_type": "markdown",
      "id": "bab1590c",
      "metadata": {
        "id": "bab1590c"
      },
      "source": [
        "# After first character should be :  letter or number or _"
      ]
    },
    {
      "cell_type": "code",
      "execution_count": 44,
      "id": "a376173e",
      "metadata": {
        "id": "a376173e"
      },
      "outputs": [],
      "source": [
        "KNn1=123"
      ]
    },
    {
      "cell_type": "code",
      "execution_count": 45,
      "id": "24a52aca",
      "metadata": {
        "id": "24a52aca"
      },
      "outputs": [],
      "source": [
        "n3_3f=34"
      ]
    },
    {
      "cell_type": "code",
      "execution_count": 46,
      "id": "276df4f6",
      "metadata": {
        "colab": {
          "base_uri": "https://localhost:8080/",
          "height": 146
        },
        "id": "276df4f6",
        "outputId": "bf7d7e83-bf77-41c5-c766-4136a89d420c"
      },
      "outputs": [
        {
          "output_type": "error",
          "ename": "NameError",
          "evalue": "name 'n' is not defined",
          "traceback": [
            "\u001b[0;31m---------------------------------------------------------------------------\u001b[0m",
            "\u001b[0;31mNameError\u001b[0m                                 Traceback (most recent call last)",
            "\u001b[0;32m/tmp/ipython-input-46-1907443031.py\u001b[0m in \u001b[0;36m<cell line: 0>\u001b[0;34m()\u001b[0m\n\u001b[0;32m----> 1\u001b[0;31m \u001b[0mn\u001b[0m\u001b[0;34m^=\u001b[0m\u001b[0;36m23\u001b[0m\u001b[0;34m\u001b[0m\u001b[0;34m\u001b[0m\u001b[0m\n\u001b[0m",
            "\u001b[0;31mNameError\u001b[0m: name 'n' is not defined"
          ]
        }
      ],
      "source": [
        "n^=23"
      ]
    },
    {
      "cell_type": "markdown",
      "id": "d4f84e5d",
      "metadata": {
        "id": "d4f84e5d"
      },
      "source": [
        "# Case Sensitive"
      ]
    },
    {
      "cell_type": "code",
      "execution_count": null,
      "id": "d7e95275",
      "metadata": {
        "id": "d7e95275",
        "outputId": "10958dbf-d33d-470c-f444-6fc8d9e9cc0d"
      },
      "outputs": [
        {
          "name": "stdout",
          "output_type": "stream",
          "text": [
            "salman\n"
          ]
        }
      ],
      "source": [
        "name=\"salman\"\n",
        "print(name)"
      ]
    },
    {
      "cell_type": "code",
      "execution_count": null,
      "id": "bd82c825",
      "metadata": {
        "id": "bd82c825",
        "outputId": "da51df86-dd22-4c47-dd6c-ce21475c2464"
      },
      "outputs": [
        {
          "name": "stdout",
          "output_type": "stream",
          "text": [
            "faroz\n"
          ]
        }
      ],
      "source": [
        "NAME=\"faroz\"\n",
        "print(NAME)\n"
      ]
    },
    {
      "cell_type": "code",
      "execution_count": 47,
      "id": "975ac7d7",
      "metadata": {
        "colab": {
          "base_uri": "https://localhost:8080/",
          "height": 146
        },
        "id": "975ac7d7",
        "outputId": "e4baa02b-918f-4f77-c8cb-038157e2b2d9"
      },
      "outputs": [
        {
          "output_type": "error",
          "ename": "NameError",
          "evalue": "name 'name' is not defined",
          "traceback": [
            "\u001b[0;31m---------------------------------------------------------------------------\u001b[0m",
            "\u001b[0;31mNameError\u001b[0m                                 Traceback (most recent call last)",
            "\u001b[0;32m/tmp/ipython-input-47-2554905365.py\u001b[0m in \u001b[0;36m<cell line: 0>\u001b[0;34m()\u001b[0m\n\u001b[0;32m----> 1\u001b[0;31m \u001b[0mid\u001b[0m\u001b[0;34m(\u001b[0m\u001b[0mname\u001b[0m\u001b[0;34m)\u001b[0m\u001b[0;34m\u001b[0m\u001b[0;34m\u001b[0m\u001b[0m\n\u001b[0m",
            "\u001b[0;31mNameError\u001b[0m: name 'name' is not defined"
          ]
        }
      ],
      "source": [
        "id(name)"
      ]
    },
    {
      "cell_type": "code",
      "execution_count": 50,
      "id": "60f13a36",
      "metadata": {
        "colab": {
          "base_uri": "https://localhost:8080/"
        },
        "id": "60f13a36",
        "outputId": "6ecdc99d-9d67-45b1-8e38-e62d9c123168"
      },
      "outputs": [
        {
          "output_type": "execute_result",
          "data": {
            "text/plain": [
              "133469487171056"
            ]
          },
          "metadata": {},
          "execution_count": 50
        }
      ],
      "source": [
        "NAME = 'bakehhb'\n",
        "id(NAME)"
      ]
    },
    {
      "cell_type": "code",
      "execution_count": null,
      "id": "589f50fd",
      "metadata": {
        "id": "589f50fd"
      },
      "outputs": [],
      "source": [
        "# or Name , NAme , nAMe are different"
      ]
    },
    {
      "cell_type": "code",
      "execution_count": null,
      "id": "eac2ec80",
      "metadata": {
        "id": "eac2ec80"
      },
      "outputs": [],
      "source": []
    },
    {
      "cell_type": "code",
      "execution_count": null,
      "id": "b0a4991f",
      "metadata": {
        "id": "b0a4991f"
      },
      "outputs": [],
      "source": [
        "# be meaningful\n",
        "age=\"salman\""
      ]
    },
    {
      "cell_type": "code",
      "execution_count": 51,
      "id": "01851064",
      "metadata": {
        "colab": {
          "base_uri": "https://localhost:8080/"
        },
        "id": "01851064",
        "outputId": "4b797a69-46d5-4b2f-d89c-f4a4bf54e777"
      },
      "outputs": [
        {
          "output_type": "stream",
          "name": "stdout",
          "text": [
            "25\n"
          ]
        }
      ],
      "source": [
        "print(age)"
      ]
    },
    {
      "cell_type": "code",
      "execution_count": 52,
      "id": "669e64ac",
      "metadata": {
        "colab": {
          "base_uri": "https://localhost:8080/"
        },
        "id": "669e64ac",
        "outputId": "81c8628a-2a0f-4b22-e669-8c9447d56611"
      },
      "outputs": [
        {
          "output_type": "execute_result",
          "data": {
            "text/plain": [
              "10758504"
            ]
          },
          "metadata": {},
          "execution_count": 52
        }
      ],
      "source": [
        "id(25)"
      ]
    },
    {
      "cell_type": "code",
      "execution_count": 53,
      "id": "21d4dea5",
      "metadata": {
        "colab": {
          "base_uri": "https://localhost:8080/"
        },
        "id": "21d4dea5",
        "outputId": "764b42ec-ef57-459c-e15b-c96dec7e6d6f"
      },
      "outputs": [
        {
          "output_type": "execute_result",
          "data": {
            "text/plain": [
              "10758504"
            ]
          },
          "metadata": {},
          "execution_count": 53
        }
      ],
      "source": [
        "id(age)"
      ]
    },
    {
      "cell_type": "markdown",
      "id": "70d70c46",
      "metadata": {
        "id": "70d70c46"
      },
      "source": [
        "# way of assignment"
      ]
    },
    {
      "cell_type": "code",
      "execution_count": 54,
      "id": "03ec6072",
      "metadata": {
        "id": "03ec6072"
      },
      "outputs": [],
      "source": [
        "name=\"salman\""
      ]
    },
    {
      "cell_type": "code",
      "execution_count": 59,
      "id": "8370fd19",
      "metadata": {
        "id": "8370fd19"
      },
      "outputs": [],
      "source": [
        "name,sid,age,gender='python','123','3.13','Prog_lang'"
      ]
    },
    {
      "cell_type": "code",
      "execution_count": 60,
      "id": "9f64a951",
      "metadata": {
        "colab": {
          "base_uri": "https://localhost:8080/"
        },
        "id": "9f64a951",
        "outputId": "12bccf8b-e1c3-40ef-bd08-2ebc7c5308a1"
      },
      "outputs": [
        {
          "output_type": "stream",
          "name": "stdout",
          "text": [
            "python 123 3.13 Prog_lang\n"
          ]
        }
      ],
      "source": [
        "print(name,sid,age,gender)"
      ]
    },
    {
      "cell_type": "code",
      "execution_count": 66,
      "id": "1634588c",
      "metadata": {
        "id": "1634588c"
      },
      "outputs": [],
      "source": [
        "name=progrm=lang='python'"
      ]
    },
    {
      "cell_type": "code",
      "source": [
        "name1,perm,nom='python','padicha','easy tha'"
      ],
      "metadata": {
        "id": "WX4JsefvnzNy"
      },
      "id": "WX4JsefvnzNy",
      "execution_count": 68,
      "outputs": []
    },
    {
      "cell_type": "code",
      "execution_count": 69,
      "id": "8437f1a3",
      "metadata": {
        "colab": {
          "base_uri": "https://localhost:8080/"
        },
        "id": "8437f1a3",
        "outputId": "0dba0113-3fb2-4434-8001-efdfe63838e6"
      },
      "outputs": [
        {
          "output_type": "stream",
          "name": "stdout",
          "text": [
            "python easy tha\n"
          ]
        }
      ],
      "source": [
        "print(name ,nom)"
      ]
    },
    {
      "cell_type": "markdown",
      "id": "2ad83d7f",
      "metadata": {
        "id": "2ad83d7f"
      },
      "source": [
        "# Numbers"
      ]
    },
    {
      "cell_type": "code",
      "execution_count": 70,
      "id": "ed258e97",
      "metadata": {
        "id": "ed258e97"
      },
      "outputs": [],
      "source": [
        "x = 1    # int\n",
        "y = 2.8  # float\n",
        "z = 1j   # complex"
      ]
    },
    {
      "cell_type": "code",
      "execution_count": 71,
      "id": "22b0f279",
      "metadata": {
        "colab": {
          "base_uri": "https://localhost:8080/"
        },
        "id": "22b0f279",
        "outputId": "1278b1a1-d587-4f4b-b30f-2b7d60227aef"
      },
      "outputs": [
        {
          "output_type": "stream",
          "name": "stdout",
          "text": [
            "<class 'int'>\n",
            "<class 'float'>\n",
            "<class 'complex'>\n"
          ]
        }
      ],
      "source": [
        "print(type(x))\n",
        "print(type(y))\n",
        "print(type(z))"
      ]
    },
    {
      "cell_type": "code",
      "execution_count": 73,
      "id": "c3531cba",
      "metadata": {
        "id": "c3531cba"
      },
      "outputs": [],
      "source": [
        "x=float(10)"
      ]
    },
    {
      "cell_type": "code",
      "execution_count": 74,
      "id": "a6f71795",
      "metadata": {
        "colab": {
          "base_uri": "https://localhost:8080/"
        },
        "id": "a6f71795",
        "outputId": "802c0ff6-2b78-4c42-884d-55927d3b0cb6"
      },
      "outputs": [
        {
          "output_type": "execute_result",
          "data": {
            "text/plain": [
              "10.0"
            ]
          },
          "metadata": {},
          "execution_count": 74
        }
      ],
      "source": [
        "x"
      ]
    },
    {
      "cell_type": "code",
      "execution_count": 75,
      "id": "757f4ee6",
      "metadata": {
        "colab": {
          "base_uri": "https://localhost:8080/"
        },
        "id": "757f4ee6",
        "outputId": "c4befa1c-8fac-4503-ac5a-0a09761e744e"
      },
      "outputs": [
        {
          "output_type": "stream",
          "name": "stdout",
          "text": [
            "10.0\n",
            "10\n",
            "(10+0j)\n"
          ]
        }
      ],
      "source": [
        "#convert from int to float:\n",
        "a = float(x)\n",
        "\n",
        "#convert from float to int:\n",
        "b = int(x)\n",
        "\n",
        "#convert from int to complex:\n",
        "c = complex(x)\n",
        "\n",
        "print(a)\n",
        "print(b)\n",
        "print(c)"
      ]
    },
    {
      "cell_type": "code",
      "execution_count": 76,
      "id": "71f6298d",
      "metadata": {
        "id": "71f6298d"
      },
      "outputs": [],
      "source": [
        "z=10"
      ]
    },
    {
      "cell_type": "code",
      "execution_count": 77,
      "id": "0b6360d4",
      "metadata": {
        "colab": {
          "base_uri": "https://localhost:8080/"
        },
        "id": "0b6360d4",
        "outputId": "20dea44a-cb7b-426a-a758-23deb2d9820a"
      },
      "outputs": [
        {
          "output_type": "execute_result",
          "data": {
            "text/plain": [
              "int"
            ]
          },
          "metadata": {},
          "execution_count": 77
        }
      ],
      "source": [
        "type(z)"
      ]
    },
    {
      "cell_type": "code",
      "execution_count": 78,
      "id": "5a88428e",
      "metadata": {
        "id": "5a88428e"
      },
      "outputs": [],
      "source": [
        "z=str(z)"
      ]
    },
    {
      "cell_type": "code",
      "execution_count": 79,
      "id": "f7749f85",
      "metadata": {
        "colab": {
          "base_uri": "https://localhost:8080/",
          "height": 36
        },
        "id": "f7749f85",
        "outputId": "c8a64b7b-4dee-41a1-c3d8-5689363f57a9"
      },
      "outputs": [
        {
          "output_type": "execute_result",
          "data": {
            "text/plain": [
              "'10'"
            ],
            "application/vnd.google.colaboratory.intrinsic+json": {
              "type": "string"
            }
          },
          "metadata": {},
          "execution_count": 79
        }
      ],
      "source": [
        "z"
      ]
    },
    {
      "cell_type": "code",
      "source": [
        "m=str(b)\n",
        "m"
      ],
      "metadata": {
        "colab": {
          "base_uri": "https://localhost:8080/",
          "height": 36
        },
        "id": "aYPTnKGKoR1Z",
        "outputId": "2cd3315c-6973-49a8-998a-65f01f976146"
      },
      "id": "aYPTnKGKoR1Z",
      "execution_count": 81,
      "outputs": [
        {
          "output_type": "execute_result",
          "data": {
            "text/plain": [
              "'10'"
            ],
            "application/vnd.google.colaboratory.intrinsic+json": {
              "type": "string"
            }
          },
          "metadata": {},
          "execution_count": 81
        }
      ]
    },
    {
      "cell_type": "code",
      "source": [
        "n=str(c)\n",
        "n"
      ],
      "metadata": {
        "colab": {
          "base_uri": "https://localhost:8080/",
          "height": 36
        },
        "id": "PaGAOX0_odqm",
        "outputId": "3f701f7a-377c-439d-fd1b-4cdd1f317406"
      },
      "id": "PaGAOX0_odqm",
      "execution_count": 83,
      "outputs": [
        {
          "output_type": "execute_result",
          "data": {
            "text/plain": [
              "'(10+0j)'"
            ],
            "application/vnd.google.colaboratory.intrinsic+json": {
              "type": "string"
            }
          },
          "metadata": {},
          "execution_count": 83
        }
      ]
    },
    {
      "cell_type": "code",
      "source": [
        "nm=str(['iu34ui'])\n",
        "nm"
      ],
      "metadata": {
        "colab": {
          "base_uri": "https://localhost:8080/",
          "height": 36
        },
        "id": "vrzL9HeBodcS",
        "outputId": "84e9602c-8c20-484a-e48c-a1da6049582e"
      },
      "id": "vrzL9HeBodcS",
      "execution_count": 87,
      "outputs": [
        {
          "output_type": "execute_result",
          "data": {
            "text/plain": [
              "\"['iu34ui']\""
            ],
            "application/vnd.google.colaboratory.intrinsic+json": {
              "type": "string"
            }
          },
          "metadata": {},
          "execution_count": 87
        }
      ]
    },
    {
      "cell_type": "code",
      "source": [
        "nm=str['iu34ui']\n",
        "nm"
      ],
      "metadata": {
        "colab": {
          "base_uri": "https://localhost:8080/",
          "height": 164
        },
        "id": "dX-X7YBgodFx",
        "outputId": "e0259e74-28da-442a-d01b-00755ba0bfdd"
      },
      "id": "dX-X7YBgodFx",
      "execution_count": 88,
      "outputs": [
        {
          "output_type": "error",
          "ename": "TypeError",
          "evalue": "type 'str' is not subscriptable",
          "traceback": [
            "\u001b[0;31m---------------------------------------------------------------------------\u001b[0m",
            "\u001b[0;31mTypeError\u001b[0m                                 Traceback (most recent call last)",
            "\u001b[0;32m/tmp/ipython-input-88-310253573.py\u001b[0m in \u001b[0;36m<cell line: 0>\u001b[0;34m()\u001b[0m\n\u001b[0;32m----> 1\u001b[0;31m \u001b[0mnm\u001b[0m\u001b[0;34m=\u001b[0m\u001b[0mstr\u001b[0m\u001b[0;34m[\u001b[0m\u001b[0;34m'iu34ui'\u001b[0m\u001b[0;34m]\u001b[0m\u001b[0;34m\u001b[0m\u001b[0;34m\u001b[0m\u001b[0m\n\u001b[0m\u001b[1;32m      2\u001b[0m \u001b[0mnm\u001b[0m\u001b[0;34m\u001b[0m\u001b[0;34m\u001b[0m\u001b[0m\n",
            "\u001b[0;31mTypeError\u001b[0m: type 'str' is not subscriptable"
          ]
        }
      ]
    },
    {
      "cell_type": "code",
      "source": [
        "a=2\n",
        "print((a), type(a))"
      ],
      "metadata": {
        "colab": {
          "base_uri": "https://localhost:8080/"
        },
        "id": "-GIx4EaPo5iu",
        "outputId": "26ea0fba-3f7e-4fc8-fc8e-e970aa7be246"
      },
      "id": "-GIx4EaPo5iu",
      "execution_count": 90,
      "outputs": [
        {
          "output_type": "stream",
          "name": "stdout",
          "text": [
            "2 <class 'int'>\n"
          ]
        }
      ]
    },
    {
      "cell_type": "code",
      "source": [
        "int(a)"
      ],
      "metadata": {
        "colab": {
          "base_uri": "https://localhost:8080/"
        },
        "id": "Jx-FOMTOpORM",
        "outputId": "89b03fdc-d756-4477-9af4-2ad7cce2a6c7"
      },
      "id": "Jx-FOMTOpORM",
      "execution_count": 91,
      "outputs": [
        {
          "output_type": "execute_result",
          "data": {
            "text/plain": [
              "2"
            ]
          },
          "metadata": {},
          "execution_count": 91
        }
      ]
    },
    {
      "cell_type": "code",
      "source": [
        "float(a)"
      ],
      "metadata": {
        "colab": {
          "base_uri": "https://localhost:8080/"
        },
        "id": "9qUAU91UpUG3",
        "outputId": "bda08811-3db1-476c-ffff-7bc46cd11971"
      },
      "id": "9qUAU91UpUG3",
      "execution_count": 92,
      "outputs": [
        {
          "output_type": "execute_result",
          "data": {
            "text/plain": [
              "2.0"
            ]
          },
          "metadata": {},
          "execution_count": 92
        }
      ]
    },
    {
      "cell_type": "code",
      "source": [
        "complex(a)"
      ],
      "metadata": {
        "colab": {
          "base_uri": "https://localhost:8080/"
        },
        "id": "p2spcao7pUDV",
        "outputId": "6a4fd23f-77cb-4d6d-b7bd-9ee692eee13d"
      },
      "id": "p2spcao7pUDV",
      "execution_count": 93,
      "outputs": [
        {
          "output_type": "execute_result",
          "data": {
            "text/plain": [
              "(2+0j)"
            ]
          },
          "metadata": {},
          "execution_count": 93
        }
      ]
    },
    {
      "cell_type": "code",
      "source": [
        "b=2.3\n",
        "int(b)"
      ],
      "metadata": {
        "colab": {
          "base_uri": "https://localhost:8080/"
        },
        "id": "kEkdP5D5pT6r",
        "outputId": "f35ffe3e-707d-4121-9294-9def90b41b80"
      },
      "id": "kEkdP5D5pT6r",
      "execution_count": 94,
      "outputs": [
        {
          "output_type": "execute_result",
          "data": {
            "text/plain": [
              "2"
            ]
          },
          "metadata": {},
          "execution_count": 94
        }
      ]
    },
    {
      "cell_type": "code",
      "source": [
        "complex(b)"
      ],
      "metadata": {
        "colab": {
          "base_uri": "https://localhost:8080/"
        },
        "id": "SJJSZLAIrQus",
        "outputId": "acb6286b-5e37-4f81-d362-8734aafe18c7"
      },
      "id": "SJJSZLAIrQus",
      "execution_count": 103,
      "outputs": [
        {
          "output_type": "execute_result",
          "data": {
            "text/plain": [
              "(2.3+0j)"
            ]
          },
          "metadata": {},
          "execution_count": 103
        }
      ]
    },
    {
      "cell_type": "code",
      "source": [
        "b"
      ],
      "metadata": {
        "colab": {
          "base_uri": "https://localhost:8080/"
        },
        "id": "c0FP8lEDrZU-",
        "outputId": "c36fb699-2a52-4e8a-970a-076c863ed0e9"
      },
      "id": "c0FP8lEDrZU-",
      "execution_count": 104,
      "outputs": [
        {
          "output_type": "execute_result",
          "data": {
            "text/plain": [
              "2.3"
            ]
          },
          "metadata": {},
          "execution_count": 104
        }
      ]
    },
    {
      "cell_type": "code",
      "source": [
        "c=2+2j"
      ],
      "metadata": {
        "id": "qWztjpdDpht4"
      },
      "id": "qWztjpdDpht4",
      "execution_count": 105,
      "outputs": []
    },
    {
      "cell_type": "code",
      "source": [
        "int(c)\n",
        "c"
      ],
      "metadata": {
        "colab": {
          "base_uri": "https://localhost:8080/",
          "height": 164
        },
        "id": "9FCjtlRep0rF",
        "outputId": "f798e7a8-c57f-4941-8774-992fa870882d"
      },
      "id": "9FCjtlRep0rF",
      "execution_count": 101,
      "outputs": [
        {
          "output_type": "error",
          "ename": "TypeError",
          "evalue": "int() argument must be a string, a bytes-like object or a real number, not 'complex'",
          "traceback": [
            "\u001b[0;31m---------------------------------------------------------------------------\u001b[0m",
            "\u001b[0;31mTypeError\u001b[0m                                 Traceback (most recent call last)",
            "\u001b[0;32m/tmp/ipython-input-101-1126241398.py\u001b[0m in \u001b[0;36m<cell line: 0>\u001b[0;34m()\u001b[0m\n\u001b[0;32m----> 1\u001b[0;31m \u001b[0mint\u001b[0m\u001b[0;34m(\u001b[0m\u001b[0mc\u001b[0m\u001b[0;34m)\u001b[0m\u001b[0;34m\u001b[0m\u001b[0;34m\u001b[0m\u001b[0m\n\u001b[0m\u001b[1;32m      2\u001b[0m \u001b[0mc\u001b[0m\u001b[0;34m\u001b[0m\u001b[0;34m\u001b[0m\u001b[0m\n",
            "\u001b[0;31mTypeError\u001b[0m: int() argument must be a string, a bytes-like object or a real number, not 'complex'"
          ]
        }
      ]
    },
    {
      "cell_type": "code",
      "source": [
        "float(c)"
      ],
      "metadata": {
        "colab": {
          "base_uri": "https://localhost:8080/",
          "height": 146
        },
        "id": "QCtSX5H-rlX8",
        "outputId": "41420fa2-58e9-40e7-ffd2-e5441619d6a9"
      },
      "id": "QCtSX5H-rlX8",
      "execution_count": 106,
      "outputs": [
        {
          "output_type": "error",
          "ename": "TypeError",
          "evalue": "float() argument must be a string or a real number, not 'complex'",
          "traceback": [
            "\u001b[0;31m---------------------------------------------------------------------------\u001b[0m",
            "\u001b[0;31mTypeError\u001b[0m                                 Traceback (most recent call last)",
            "\u001b[0;32m/tmp/ipython-input-106-2830226752.py\u001b[0m in \u001b[0;36m<cell line: 0>\u001b[0;34m()\u001b[0m\n\u001b[0;32m----> 1\u001b[0;31m \u001b[0mfloat\u001b[0m\u001b[0;34m(\u001b[0m\u001b[0mc\u001b[0m\u001b[0;34m)\u001b[0m\u001b[0;34m\u001b[0m\u001b[0;34m\u001b[0m\u001b[0m\n\u001b[0m",
            "\u001b[0;31mTypeError\u001b[0m: float() argument must be a string or a real number, not 'complex'"
          ]
        }
      ]
    },
    {
      "cell_type": "code",
      "source": [
        "complex(b)"
      ],
      "metadata": {
        "colab": {
          "base_uri": "https://localhost:8080/"
        },
        "id": "2Wlg_A8Xp0Y0",
        "outputId": "c9e69331-c008-4a9a-8246-a03fe52324f9"
      },
      "id": "2Wlg_A8Xp0Y0",
      "execution_count": 102,
      "outputs": [
        {
          "output_type": "execute_result",
          "data": {
            "text/plain": [
              "(2.3+0j)"
            ]
          },
          "metadata": {},
          "execution_count": 102
        }
      ]
    },
    {
      "cell_type": "code",
      "source": [],
      "metadata": {
        "id": "Jz3CKkiBrFOR"
      },
      "id": "Jz3CKkiBrFOR",
      "execution_count": null,
      "outputs": []
    },
    {
      "cell_type": "code",
      "source": [
        "## int -- float\n",
        "## int -- complex\n",
        "## float -- int\n",
        "## float -- complex\n",
        "## complex -- float not posible\n",
        "## complex -- int not possible\n"
      ],
      "metadata": {
        "id": "20cN8uLbqY3J"
      },
      "id": "20cN8uLbqY3J",
      "execution_count": 107,
      "outputs": []
    },
    {
      "cell_type": "markdown",
      "id": "535cbf88",
      "metadata": {
        "id": "535cbf88"
      },
      "source": [
        "# Strings"
      ]
    },
    {
      "cell_type": "code",
      "execution_count": 117,
      "id": "520908cf",
      "metadata": {
        "id": "520908cf"
      },
      "outputs": [],
      "source": [
        "# position\n",
        "#  0123456............\n",
        "a=\"the world is my country\""
      ]
    },
    {
      "cell_type": "code",
      "execution_count": 118,
      "id": "6dfeb17f",
      "metadata": {
        "colab": {
          "base_uri": "https://localhost:8080/",
          "height": 36
        },
        "id": "6dfeb17f",
        "outputId": "887d6d90-ca8d-4cf5-97bc-2b14ac21c558"
      },
      "outputs": [
        {
          "output_type": "execute_result",
          "data": {
            "text/plain": [
              "'world'"
            ],
            "application/vnd.google.colaboratory.intrinsic+json": {
              "type": "string"
            }
          },
          "metadata": {},
          "execution_count": 118
        }
      ],
      "source": [
        "#starts from 0\n",
        "a[4:9]"
      ]
    },
    {
      "cell_type": "code",
      "execution_count": 119,
      "id": "6c1cad29",
      "metadata": {
        "colab": {
          "base_uri": "https://localhost:8080/",
          "height": 36
        },
        "id": "6c1cad29",
        "outputId": "494a40f0-10bf-4445-998a-80729bd890f1"
      },
      "outputs": [
        {
          "output_type": "execute_result",
          "data": {
            "text/plain": [
              "'world is my country'"
            ],
            "application/vnd.google.colaboratory.intrinsic+json": {
              "type": "string"
            }
          },
          "metadata": {},
          "execution_count": 119
        }
      ],
      "source": [
        "#prints all becoz of 0 to: we didnot mention anything\n",
        "a[4:]"
      ]
    },
    {
      "cell_type": "code",
      "execution_count": 121,
      "id": "267d0c9d",
      "metadata": {
        "colab": {
          "base_uri": "https://localhost:8080/",
          "height": 36
        },
        "id": "267d0c9d",
        "outputId": "b25ceeb6-899d-4fb1-b8e2-52caca30f6ed"
      },
      "outputs": [
        {
          "output_type": "execute_result",
          "data": {
            "text/plain": [
              "'country'"
            ],
            "application/vnd.google.colaboratory.intrinsic+json": {
              "type": "string"
            }
          },
          "metadata": {},
          "execution_count": 121
        }
      ],
      "source": [
        "a[16:24]"
      ]
    },
    {
      "cell_type": "code",
      "source": [
        "a[13:30]"
      ],
      "metadata": {
        "colab": {
          "base_uri": "https://localhost:8080/",
          "height": 36
        },
        "id": "GwI0p02Lsi9n",
        "outputId": "6346fa22-9855-42e3-d5ed-79c6743ec250"
      },
      "id": "GwI0p02Lsi9n",
      "execution_count": 123,
      "outputs": [
        {
          "output_type": "execute_result",
          "data": {
            "text/plain": [
              "'my country'"
            ],
            "application/vnd.google.colaboratory.intrinsic+json": {
              "type": "string"
            }
          },
          "metadata": {},
          "execution_count": 123
        }
      ]
    },
    {
      "cell_type": "code",
      "execution_count": 124,
      "id": "eb45cf03",
      "metadata": {
        "id": "eb45cf03"
      },
      "outputs": [],
      "source": [
        "a=a.capitalize()"
      ]
    },
    {
      "cell_type": "code",
      "execution_count": 125,
      "id": "d2f13ec5",
      "metadata": {
        "colab": {
          "base_uri": "https://localhost:8080/",
          "height": 36
        },
        "id": "d2f13ec5",
        "outputId": "95b367b1-5faf-413b-e517-5c4f54079140"
      },
      "outputs": [
        {
          "output_type": "execute_result",
          "data": {
            "text/plain": [
              "'The world is my country'"
            ],
            "application/vnd.google.colaboratory.intrinsic+json": {
              "type": "string"
            }
          },
          "metadata": {},
          "execution_count": 125
        }
      ],
      "source": [
        "a"
      ]
    },
    {
      "cell_type": "code",
      "execution_count": 126,
      "id": "2754cd86",
      "metadata": {
        "colab": {
          "base_uri": "https://localhost:8080/"
        },
        "id": "2754cd86",
        "outputId": "c714be15-1dde-4944-c526-f6f6d7ee36ea"
      },
      "outputs": [
        {
          "output_type": "execute_result",
          "data": {
            "text/plain": [
              "False"
            ]
          },
          "metadata": {},
          "execution_count": 126
        }
      ],
      "source": [
        "a.isdigit()"
      ]
    },
    {
      "cell_type": "code",
      "source": [
        "b='Elon MOVE TO POLITICS THAT IS \"AMERICA PARTY\" '"
      ],
      "metadata": {
        "id": "4GcW5PhkswnI"
      },
      "id": "4GcW5PhkswnI",
      "execution_count": 129,
      "outputs": []
    },
    {
      "cell_type": "code",
      "source": [
        "b.isdigit()"
      ],
      "metadata": {
        "colab": {
          "base_uri": "https://localhost:8080/"
        },
        "id": "JsFIQ1iUtCGI",
        "outputId": "c0313128-9038-4910-af55-e4cc1f372f24"
      },
      "id": "JsFIQ1iUtCGI",
      "execution_count": 130,
      "outputs": [
        {
          "output_type": "execute_result",
          "data": {
            "text/plain": [
              "False"
            ]
          },
          "metadata": {},
          "execution_count": 130
        }
      ]
    },
    {
      "cell_type": "code",
      "source": [
        "b.capitalize()"
      ],
      "metadata": {
        "colab": {
          "base_uri": "https://localhost:8080/",
          "height": 36
        },
        "id": "m-czw_EjtED-",
        "outputId": "5b2476eb-da42-4d74-865b-7494923d338e"
      },
      "id": "m-czw_EjtED-",
      "execution_count": 131,
      "outputs": [
        {
          "output_type": "execute_result",
          "data": {
            "text/plain": [
              "'Elon move to politics that is \"america party\" '"
            ],
            "application/vnd.google.colaboratory.intrinsic+json": {
              "type": "string"
            }
          },
          "metadata": {},
          "execution_count": 131
        }
      ]
    },
    {
      "cell_type": "code",
      "source": [
        "b.lower()"
      ],
      "metadata": {
        "colab": {
          "base_uri": "https://localhost:8080/",
          "height": 36
        },
        "id": "dIZR0MSHtB-n",
        "outputId": "251efc8f-67b7-4cad-d601-0564f0b7fa5c"
      },
      "id": "dIZR0MSHtB-n",
      "execution_count": 132,
      "outputs": [
        {
          "output_type": "execute_result",
          "data": {
            "text/plain": [
              "'elon move to politics that is \"america party\" '"
            ],
            "application/vnd.google.colaboratory.intrinsic+json": {
              "type": "string"
            }
          },
          "metadata": {},
          "execution_count": 132
        }
      ]
    },
    {
      "cell_type": "code",
      "source": [
        "b.upper()"
      ],
      "metadata": {
        "colab": {
          "base_uri": "https://localhost:8080/",
          "height": 36
        },
        "id": "vJ_vZf6ftB3J",
        "outputId": "ce58b7ee-f0e1-4bf0-d2ef-3496c9de982d"
      },
      "id": "vJ_vZf6ftB3J",
      "execution_count": 133,
      "outputs": [
        {
          "output_type": "execute_result",
          "data": {
            "text/plain": [
              "'ELON MOVE TO POLITICS THAT IS \"AMERICA PARTY\" '"
            ],
            "application/vnd.google.colaboratory.intrinsic+json": {
              "type": "string"
            }
          },
          "metadata": {},
          "execution_count": 133
        }
      ]
    },
    {
      "cell_type": "code",
      "execution_count": 127,
      "id": "34e2c940",
      "metadata": {
        "colab": {
          "base_uri": "https://localhost:8080/"
        },
        "id": "34e2c940",
        "outputId": "2b860d2e-bcd3-464d-c8e3-c30485af3d42"
      },
      "outputs": [
        {
          "output_type": "execute_result",
          "data": {
            "text/plain": [
              "False"
            ]
          },
          "metadata": {},
          "execution_count": 127
        }
      ],
      "source": [
        "a.islower()"
      ]
    },
    {
      "cell_type": "code",
      "execution_count": 134,
      "id": "ded64f25",
      "metadata": {
        "colab": {
          "base_uri": "https://localhost:8080/",
          "height": 36
        },
        "id": "ded64f25",
        "outputId": "c8700e90-1a64-433e-9eeb-fa28d35ca230"
      },
      "outputs": [
        {
          "output_type": "execute_result",
          "data": {
            "text/plain": [
              "'the world is my country'"
            ],
            "application/vnd.google.colaboratory.intrinsic+json": {
              "type": "string"
            }
          },
          "metadata": {},
          "execution_count": 134
        }
      ],
      "source": [
        "a.lower()"
      ]
    },
    {
      "cell_type": "code",
      "execution_count": 135,
      "id": "b1b50b26",
      "metadata": {
        "id": "b1b50b26"
      },
      "outputs": [],
      "source": [
        "a=a.upper()"
      ]
    },
    {
      "cell_type": "code",
      "execution_count": null,
      "id": "69372619",
      "metadata": {
        "id": "69372619",
        "outputId": "4c797712-36de-4efb-b938-9198a664e7ed"
      },
      "outputs": [
        {
          "data": {
            "text/plain": [
              "'THE WORLD IS AWESOME'"
            ]
          },
          "execution_count": 204,
          "metadata": {},
          "output_type": "execute_result"
        }
      ],
      "source": [
        "a"
      ]
    },
    {
      "cell_type": "code",
      "execution_count": 136,
      "id": "136ba641",
      "metadata": {
        "id": "136ba641"
      },
      "outputs": [],
      "source": [
        "a=a.replace('IS','will be')"
      ]
    },
    {
      "cell_type": "code",
      "execution_count": 137,
      "id": "2ea4e0f5",
      "metadata": {
        "colab": {
          "base_uri": "https://localhost:8080/",
          "height": 36
        },
        "id": "2ea4e0f5",
        "outputId": "92d39994-bf4a-4c63-8faf-b9383001465a"
      },
      "outputs": [
        {
          "output_type": "execute_result",
          "data": {
            "text/plain": [
              "'THE WORLD will be MY COUNTRY'"
            ],
            "application/vnd.google.colaboratory.intrinsic+json": {
              "type": "string"
            }
          },
          "metadata": {},
          "execution_count": 137
        }
      ],
      "source": [
        "a"
      ]
    },
    {
      "cell_type": "code",
      "execution_count": 138,
      "id": "36f9207d",
      "metadata": {
        "colab": {
          "base_uri": "https://localhost:8080/"
        },
        "id": "36f9207d",
        "outputId": "9b5294db-5ca8-4de6-c174-aee6cab05c28"
      },
      "outputs": [
        {
          "output_type": "execute_result",
          "data": {
            "text/plain": [
              "0"
            ]
          },
          "metadata": {},
          "execution_count": 138
        }
      ],
      "source": [
        "a.find('T')"
      ]
    },
    {
      "cell_type": "code",
      "execution_count": 139,
      "id": "1ff0ef96",
      "metadata": {
        "colab": {
          "base_uri": "https://localhost:8080/",
          "height": 36
        },
        "id": "1ff0ef96",
        "outputId": "f403995b-1a9d-46b8-cbe8-134d4e7a91e3"
      },
      "outputs": [
        {
          "output_type": "execute_result",
          "data": {
            "text/plain": [
              "'The World Will Be My Country'"
            ],
            "application/vnd.google.colaboratory.intrinsic+json": {
              "type": "string"
            }
          },
          "metadata": {},
          "execution_count": 139
        }
      ],
      "source": [
        "a.title()"
      ]
    },
    {
      "cell_type": "code",
      "source": [
        "type(a)"
      ],
      "metadata": {
        "colab": {
          "base_uri": "https://localhost:8080/"
        },
        "id": "deChgUl-uuCi",
        "outputId": "e9630ca0-4e0d-4e43-a31e-a5771e19820e"
      },
      "id": "deChgUl-uuCi",
      "execution_count": 146,
      "outputs": [
        {
          "output_type": "execute_result",
          "data": {
            "text/plain": [
              "str"
            ]
          },
          "metadata": {},
          "execution_count": 146
        }
      ]
    },
    {
      "cell_type": "code",
      "source": [
        "b.title()"
      ],
      "metadata": {
        "colab": {
          "base_uri": "https://localhost:8080/",
          "height": 36
        },
        "id": "z-wOer1FuY1n",
        "outputId": "b045c519-5b8d-413a-8ce5-ea4ede947066"
      },
      "id": "z-wOer1FuY1n",
      "execution_count": 147,
      "outputs": [
        {
          "output_type": "execute_result",
          "data": {
            "text/plain": [
              "'Elon Move To Politics That Is \"America Party\" '"
            ],
            "application/vnd.google.colaboratory.intrinsic+json": {
              "type": "string"
            }
          },
          "metadata": {},
          "execution_count": 147
        }
      ]
    },
    {
      "cell_type": "code",
      "execution_count": 148,
      "id": "58e78b09",
      "metadata": {
        "id": "58e78b09"
      },
      "outputs": [],
      "source": [
        "x=a.split()"
      ]
    },
    {
      "cell_type": "code",
      "execution_count": 143,
      "id": "eeec0c81",
      "metadata": {
        "colab": {
          "base_uri": "https://localhost:8080/"
        },
        "id": "eeec0c81",
        "outputId": "d97441d0-e28a-4049-8fa2-23557fc0e52a"
      },
      "outputs": [
        {
          "output_type": "execute_result",
          "data": {
            "text/plain": [
              "['THE', 'WORLD', 'will', 'be', 'MY', 'COUNTRY']"
            ]
          },
          "metadata": {},
          "execution_count": 143
        }
      ],
      "source": [
        "x"
      ]
    },
    {
      "cell_type": "code",
      "execution_count": 149,
      "id": "06554409",
      "metadata": {
        "colab": {
          "base_uri": "https://localhost:8080/"
        },
        "id": "06554409",
        "outputId": "e0e5878d-b6a8-40ef-8c0d-95561fe7d472"
      },
      "outputs": [
        {
          "output_type": "execute_result",
          "data": {
            "text/plain": [
              "list"
            ]
          },
          "metadata": {},
          "execution_count": 149
        }
      ],
      "source": [
        "type(x)"
      ]
    },
    {
      "cell_type": "markdown",
      "source": [
        "Data Types convert"
      ],
      "metadata": {
        "id": "y8fJeIJlv2Iw"
      },
      "id": "y8fJeIJlv2Iw"
    },
    {
      "cell_type": "code",
      "source": [
        "#str -- list\n",
        "\n",
        "a='kjjhknk'\n",
        "b=list(a)\n",
        "b"
      ],
      "metadata": {
        "colab": {
          "base_uri": "https://localhost:8080/"
        },
        "id": "88j2My-mv0zq",
        "outputId": "9d454676-d3a7-439f-a290-83562845e8d9"
      },
      "id": "88j2My-mv0zq",
      "execution_count": 151,
      "outputs": [
        {
          "output_type": "execute_result",
          "data": {
            "text/plain": [
              "['k', 'j', 'j', 'h', 'k', 'n', 'k']"
            ]
          },
          "metadata": {},
          "execution_count": 151
        }
      ]
    },
    {
      "cell_type": "code",
      "source": [
        "type(a)\n"
      ],
      "metadata": {
        "colab": {
          "base_uri": "https://localhost:8080/"
        },
        "id": "DxsEJLV2v0sE",
        "outputId": "d0a746e9-b0d3-4126-a1e4-f89df10f1a7d"
      },
      "id": "DxsEJLV2v0sE",
      "execution_count": 152,
      "outputs": [
        {
          "output_type": "execute_result",
          "data": {
            "text/plain": [
              "str"
            ]
          },
          "metadata": {},
          "execution_count": 152
        }
      ]
    },
    {
      "cell_type": "code",
      "source": [
        "type(b)"
      ],
      "metadata": {
        "colab": {
          "base_uri": "https://localhost:8080/"
        },
        "id": "k22s7l3wv0lT",
        "outputId": "62ed5db4-1113-4a03-a303-f6478813d598"
      },
      "id": "k22s7l3wv0lT",
      "execution_count": 153,
      "outputs": [
        {
          "output_type": "execute_result",
          "data": {
            "text/plain": [
              "list"
            ]
          },
          "metadata": {},
          "execution_count": 153
        }
      ]
    },
    {
      "cell_type": "code",
      "source": [
        "m=['h','i','b','r','o']"
      ],
      "metadata": {
        "id": "SacFD0uHv0e4"
      },
      "id": "SacFD0uHv0e4",
      "execution_count": 154,
      "outputs": []
    },
    {
      "cell_type": "code",
      "source": [
        "type(m)"
      ],
      "metadata": {
        "colab": {
          "base_uri": "https://localhost:8080/"
        },
        "id": "hmBDyqDbv0XP",
        "outputId": "35d0b42c-d8b8-489b-cf5a-5e242bdedc8b"
      },
      "id": "hmBDyqDbv0XP",
      "execution_count": 155,
      "outputs": [
        {
          "output_type": "execute_result",
          "data": {
            "text/plain": [
              "list"
            ]
          },
          "metadata": {},
          "execution_count": 155
        }
      ]
    },
    {
      "cell_type": "code",
      "source": [
        "joined = \"\".join(m)"
      ],
      "metadata": {
        "id": "2yKNH7VWv0P_"
      },
      "id": "2yKNH7VWv0P_",
      "execution_count": 156,
      "outputs": []
    },
    {
      "cell_type": "code",
      "source": [
        "joined"
      ],
      "metadata": {
        "colab": {
          "base_uri": "https://localhost:8080/",
          "height": 36
        },
        "id": "ixXcl-_Fv0IK",
        "outputId": "b5f8f3a7-6beb-4449-dfac-d2088221ce9f"
      },
      "id": "ixXcl-_Fv0IK",
      "execution_count": 157,
      "outputs": [
        {
          "output_type": "execute_result",
          "data": {
            "text/plain": [
              "'hibro'"
            ],
            "application/vnd.google.colaboratory.intrinsic+json": {
              "type": "string"
            }
          },
          "metadata": {},
          "execution_count": 157
        }
      ]
    },
    {
      "cell_type": "code",
      "source": [
        "covt = set(m)\n",
        "covt"
      ],
      "metadata": {
        "colab": {
          "base_uri": "https://localhost:8080/"
        },
        "id": "VoVVm7rryai-",
        "outputId": "42aed303-2d2c-43e6-8f5c-ad4af02126e1"
      },
      "id": "VoVVm7rryai-",
      "execution_count": 171,
      "outputs": [
        {
          "output_type": "execute_result",
          "data": {
            "text/plain": [
              "{'b', 'h', 'i', 'o', 'r'}"
            ]
          },
          "metadata": {},
          "execution_count": 171
        }
      ]
    },
    {
      "cell_type": "code",
      "source": [
        "cert = list(covt)\n",
        "cert"
      ],
      "metadata": {
        "colab": {
          "base_uri": "https://localhost:8080/"
        },
        "id": "gZ6oG84AyaVT",
        "outputId": "edbe94b2-254e-48a8-93e5-eac609a38b82"
      },
      "id": "gZ6oG84AyaVT",
      "execution_count": 173,
      "outputs": [
        {
          "output_type": "execute_result",
          "data": {
            "text/plain": [
              "['b', 'o', 'r', 'i', 'h']"
            ]
          },
          "metadata": {},
          "execution_count": 173
        }
      ]
    },
    {
      "cell_type": "code",
      "source": [
        "q={'a':1,'b':2,'c':3}"
      ],
      "metadata": {
        "id": "EQv90ARgyaO0"
      },
      "id": "EQv90ARgyaO0",
      "execution_count": 174,
      "outputs": []
    },
    {
      "cell_type": "code",
      "source": [
        "list(q)"
      ],
      "metadata": {
        "colab": {
          "base_uri": "https://localhost:8080/"
        },
        "id": "6iINKiQOyaIQ",
        "outputId": "e8ebe3a1-8475-427a-d99b-218ef7c1a2e1"
      },
      "id": "6iINKiQOyaIQ",
      "execution_count": 175,
      "outputs": [
        {
          "output_type": "execute_result",
          "data": {
            "text/plain": [
              "['a', 'b', 'c']"
            ]
          },
          "metadata": {},
          "execution_count": 175
        }
      ]
    },
    {
      "cell_type": "code",
      "source": [
        "set(q)"
      ],
      "metadata": {
        "colab": {
          "base_uri": "https://localhost:8080/"
        },
        "id": "MH8xC_gdyZ_b",
        "outputId": "cd971a91-f12b-433f-c146-96862fef132c"
      },
      "id": "MH8xC_gdyZ_b",
      "execution_count": 176,
      "outputs": [
        {
          "output_type": "execute_result",
          "data": {
            "text/plain": [
              "{'a', 'b', 'c'}"
            ]
          },
          "metadata": {},
          "execution_count": 176
        }
      ]
    },
    {
      "cell_type": "code",
      "source": [
        "tuple(q)"
      ],
      "metadata": {
        "colab": {
          "base_uri": "https://localhost:8080/"
        },
        "id": "vJnu4kdMyZjm",
        "outputId": "7f4115a2-63e6-4df0-b64c-8dbefaee0e46"
      },
      "id": "vJnu4kdMyZjm",
      "execution_count": 177,
      "outputs": [
        {
          "output_type": "execute_result",
          "data": {
            "text/plain": [
              "('a', 'b', 'c')"
            ]
          },
          "metadata": {},
          "execution_count": 177
        }
      ]
    },
    {
      "cell_type": "code",
      "source": [
        "# str to dict directly\n",
        "dict(\"hello\")  # ❌ TypeError: must be iterable of key-value pairs\n",
        "\n",
        "# list to dict (without 2-item tuples)\n",
        "dict(['a', 'b'])  # ❌ TypeError\n",
        "\n",
        "# dict to list of values\n",
        "list(d.values())  # ✅ BUT only gets values\n",
        "\n",
        "# dict to str with structure\n",
        "str(d)  # ✅ {'a': 1, 'b': 2} as string\n",
        "\n",
        "# set with unhashable types\n",
        "set([['a'], ['b']])  # ❌ TypeError: list is unhashable\n"
      ],
      "metadata": {
        "colab": {
          "base_uri": "https://localhost:8080/",
          "height": 219
        },
        "id": "qppskVkTyOCr",
        "outputId": "df8ca88a-14d1-45cf-8384-3ffbec196d85"
      },
      "id": "qppskVkTyOCr",
      "execution_count": 178,
      "outputs": [
        {
          "output_type": "error",
          "ename": "ValueError",
          "evalue": "dictionary update sequence element #0 has length 1; 2 is required",
          "traceback": [
            "\u001b[0;31m---------------------------------------------------------------------------\u001b[0m",
            "\u001b[0;31mValueError\u001b[0m                                Traceback (most recent call last)",
            "\u001b[0;32m/tmp/ipython-input-178-1531213728.py\u001b[0m in \u001b[0;36m<cell line: 0>\u001b[0;34m()\u001b[0m\n\u001b[1;32m      1\u001b[0m \u001b[0;31m# str to dict directly\u001b[0m\u001b[0;34m\u001b[0m\u001b[0;34m\u001b[0m\u001b[0m\n\u001b[0;32m----> 2\u001b[0;31m \u001b[0mdict\u001b[0m\u001b[0;34m(\u001b[0m\u001b[0;34m\"hello\"\u001b[0m\u001b[0;34m)\u001b[0m  \u001b[0;31m# ❌ TypeError: must be iterable of key-value pairs\u001b[0m\u001b[0;34m\u001b[0m\u001b[0;34m\u001b[0m\u001b[0m\n\u001b[0m\u001b[1;32m      3\u001b[0m \u001b[0;34m\u001b[0m\u001b[0m\n\u001b[1;32m      4\u001b[0m \u001b[0;31m# list to dict (without 2-item tuples)\u001b[0m\u001b[0;34m\u001b[0m\u001b[0;34m\u001b[0m\u001b[0m\n\u001b[1;32m      5\u001b[0m \u001b[0mdict\u001b[0m\u001b[0;34m(\u001b[0m\u001b[0;34m[\u001b[0m\u001b[0;34m'a'\u001b[0m\u001b[0;34m,\u001b[0m \u001b[0;34m'b'\u001b[0m\u001b[0;34m]\u001b[0m\u001b[0;34m)\u001b[0m  \u001b[0;31m# ❌ TypeError\u001b[0m\u001b[0;34m\u001b[0m\u001b[0;34m\u001b[0m\u001b[0m\n",
            "\u001b[0;31mValueError\u001b[0m: dictionary update sequence element #0 has length 1; 2 is required"
          ]
        }
      ]
    },
    {
      "cell_type": "markdown",
      "id": "e1c9603b",
      "metadata": {
        "id": "e1c9603b"
      },
      "source": [
        "# Operators"
      ]
    },
    {
      "cell_type": "code",
      "execution_count": 161,
      "id": "ce4caeb4",
      "metadata": {
        "colab": {
          "base_uri": "https://localhost:8080/"
        },
        "id": "ce4caeb4",
        "outputId": "35775555-ff9e-49d9-9562-949c27f4a20f"
      },
      "outputs": [
        {
          "output_type": "execute_result",
          "data": {
            "text/plain": [
              "(4, 1, 8, 0.6666666666666666)"
            ]
          },
          "metadata": {},
          "execution_count": 161
        }
      ],
      "source": [
        "#Arithmetic Operator\n",
        "1+3,3-2,4*2,2/3"
      ]
    },
    {
      "cell_type": "code",
      "execution_count": 162,
      "id": "05ede076",
      "metadata": {
        "colab": {
          "base_uri": "https://localhost:8080/"
        },
        "id": "05ede076",
        "outputId": "c61a6470-f313-41cc-fdb7-66ede4e2876e"
      },
      "outputs": [
        {
          "output_type": "execute_result",
          "data": {
            "text/plain": [
              "10"
            ]
          },
          "metadata": {},
          "execution_count": 162
        }
      ],
      "source": [
        "#Assignment Operators\n",
        "a=10\n",
        "a"
      ]
    },
    {
      "cell_type": "code",
      "execution_count": 163,
      "id": "10d23c63",
      "metadata": {
        "colab": {
          "base_uri": "https://localhost:8080/"
        },
        "id": "10d23c63",
        "outputId": "ca033997-8f5d-490c-b03b-4fb7a32fdb8b"
      },
      "outputs": [
        {
          "output_type": "execute_result",
          "data": {
            "text/plain": [
              "True"
            ]
          },
          "metadata": {},
          "execution_count": 163
        }
      ],
      "source": [
        "20==20"
      ]
    },
    {
      "cell_type": "code",
      "execution_count": 164,
      "id": "cf583028",
      "metadata": {
        "colab": {
          "base_uri": "https://localhost:8080/"
        },
        "id": "cf583028",
        "outputId": "7b42d6ce-517e-4571-eae3-1d9d0e556c75"
      },
      "outputs": [
        {
          "output_type": "execute_result",
          "data": {
            "text/plain": [
              "False"
            ]
          },
          "metadata": {},
          "execution_count": 164
        }
      ],
      "source": [
        "a=10\n",
        "a!=10"
      ]
    },
    {
      "cell_type": "code",
      "execution_count": 165,
      "id": "d94e3a7a",
      "metadata": {
        "colab": {
          "base_uri": "https://localhost:8080/"
        },
        "id": "d94e3a7a",
        "outputId": "5c7139ca-0fcd-45d0-c2d0-fc7783fc6ed0"
      },
      "outputs": [
        {
          "output_type": "execute_result",
          "data": {
            "text/plain": [
              "False"
            ]
          },
          "metadata": {},
          "execution_count": 165
        }
      ],
      "source": [
        "10!=10"
      ]
    },
    {
      "cell_type": "code",
      "execution_count": 166,
      "id": "cc8dc02c",
      "metadata": {
        "colab": {
          "base_uri": "https://localhost:8080/"
        },
        "id": "cc8dc02c",
        "outputId": "2bc92792-3018-4248-ae63-ee095ee2a683"
      },
      "outputs": [
        {
          "output_type": "execute_result",
          "data": {
            "text/plain": [
              "True"
            ]
          },
          "metadata": {},
          "execution_count": 166
        }
      ],
      "source": [
        "10==10"
      ]
    },
    {
      "cell_type": "code",
      "execution_count": 167,
      "id": "09971f52",
      "metadata": {
        "id": "09971f52"
      },
      "outputs": [],
      "source": [
        "a=a+1"
      ]
    },
    {
      "cell_type": "code",
      "execution_count": null,
      "id": "b1786138",
      "metadata": {
        "id": "b1786138"
      },
      "outputs": [],
      "source": [
        "a"
      ]
    },
    {
      "cell_type": "code",
      "execution_count": null,
      "id": "5e9ba98d",
      "metadata": {
        "id": "5e9ba98d"
      },
      "outputs": [],
      "source": [
        "# Comparison Operators\n",
        "#checks whether two side is equal\n",
        "a=10\n",
        "a==20"
      ]
    },
    {
      "cell_type": "code",
      "execution_count": 179,
      "id": "a88ade97",
      "metadata": {
        "colab": {
          "base_uri": "https://localhost:8080/"
        },
        "id": "a88ade97",
        "outputId": "309f64eb-f222-4a25-9039-0036128ea161"
      },
      "outputs": [
        {
          "output_type": "execute_result",
          "data": {
            "text/plain": [
              "True"
            ]
          },
          "metadata": {},
          "execution_count": 179
        }
      ],
      "source": [
        "#checks whether two side are not equal\n",
        "a!=20"
      ]
    },
    {
      "cell_type": "code",
      "execution_count": 180,
      "id": "2a0e305a",
      "metadata": {
        "id": "2a0e305a"
      },
      "outputs": [],
      "source": [
        "a=10"
      ]
    },
    {
      "cell_type": "code",
      "execution_count": 181,
      "id": "225c351b",
      "metadata": {
        "colab": {
          "base_uri": "https://localhost:8080/"
        },
        "id": "225c351b",
        "outputId": "f1b50f8b-0d6e-462f-c97f-84ee9380952f"
      },
      "outputs": [
        {
          "output_type": "execute_result",
          "data": {
            "text/plain": [
              "False"
            ]
          },
          "metadata": {},
          "execution_count": 181
        }
      ],
      "source": [
        "# a is less then 5\n",
        "a < 5"
      ]
    },
    {
      "cell_type": "code",
      "execution_count": 182,
      "id": "aeac058e",
      "metadata": {
        "colab": {
          "base_uri": "https://localhost:8080/"
        },
        "id": "aeac058e",
        "outputId": "f8e1baf4-6252-4a3b-ab3b-418770ee565c"
      },
      "outputs": [
        {
          "output_type": "execute_result",
          "data": {
            "text/plain": [
              "True"
            ]
          },
          "metadata": {},
          "execution_count": 182
        }
      ],
      "source": [
        "# a is graeter then 5\n",
        "a > 5"
      ]
    },
    {
      "cell_type": "code",
      "execution_count": 183,
      "id": "8a7e93d3",
      "metadata": {
        "colab": {
          "base_uri": "https://localhost:8080/"
        },
        "id": "8a7e93d3",
        "outputId": "ee526665-c9c0-48df-ba98-debe30b7f41e"
      },
      "outputs": [
        {
          "output_type": "execute_result",
          "data": {
            "text/plain": [
              "False"
            ]
          },
          "metadata": {},
          "execution_count": 183
        }
      ],
      "source": [
        "a<10"
      ]
    },
    {
      "cell_type": "code",
      "execution_count": 184,
      "id": "f8d6d0eb",
      "metadata": {
        "colab": {
          "base_uri": "https://localhost:8080/"
        },
        "id": "f8d6d0eb",
        "outputId": "5ffbe36f-4f92-4d8a-f310-a7e0def099aa"
      },
      "outputs": [
        {
          "output_type": "execute_result",
          "data": {
            "text/plain": [
              "True"
            ]
          },
          "metadata": {},
          "execution_count": 184
        }
      ],
      "source": [
        "# a is less then (or) equal to 10 , so true\n",
        "a<=10"
      ]
    },
    {
      "cell_type": "code",
      "execution_count": 186,
      "id": "8b60473a",
      "metadata": {
        "id": "8b60473a"
      },
      "outputs": [],
      "source": [
        "#Logical Operators and , or , not\n",
        "x=10"
      ]
    },
    {
      "cell_type": "code",
      "execution_count": 187,
      "id": "3191320d",
      "metadata": {
        "colab": {
          "base_uri": "https://localhost:8080/"
        },
        "id": "3191320d",
        "outputId": "6a30cc10-b385-4805-f6bc-3f32052be442"
      },
      "outputs": [
        {
          "output_type": "execute_result",
          "data": {
            "text/plain": [
              "True"
            ]
          },
          "metadata": {},
          "execution_count": 187
        }
      ],
      "source": [
        "# if any one of them is true means return true\n",
        "x < 5 or x > 5"
      ]
    },
    {
      "cell_type": "code",
      "execution_count": null,
      "id": "cf48ecee",
      "metadata": {
        "id": "cf48ecee",
        "outputId": "e8f7d4d8-8f53-43e1-c96b-769b28e814a4"
      },
      "outputs": [
        {
          "data": {
            "text/plain": [
              "False"
            ]
          },
          "execution_count": 228,
          "metadata": {},
          "output_type": "execute_result"
        }
      ],
      "source": [
        "# if any one of them is false means return false\n",
        "x < 5 and x > 5"
      ]
    },
    {
      "cell_type": "code",
      "execution_count": null,
      "id": "bd541c04",
      "metadata": {
        "id": "bd541c04"
      },
      "outputs": [],
      "source": [
        "#Identity Operators\n",
        "x=10\n",
        "y=10"
      ]
    },
    {
      "cell_type": "code",
      "execution_count": 188,
      "id": "405254df",
      "metadata": {
        "colab": {
          "base_uri": "https://localhost:8080/"
        },
        "id": "405254df",
        "outputId": "cc4bd3f1-d8f7-457a-9772-b1800f2f3145"
      },
      "outputs": [
        {
          "output_type": "execute_result",
          "data": {
            "text/plain": [
              "False"
            ]
          },
          "metadata": {},
          "execution_count": 188
        }
      ],
      "source": [
        "x is y"
      ]
    },
    {
      "cell_type": "code",
      "execution_count": 189,
      "id": "b0c1436e",
      "metadata": {
        "colab": {
          "base_uri": "https://localhost:8080/"
        },
        "id": "b0c1436e",
        "outputId": "3f5b8b92-e0e2-42d5-bb8e-d38a84ec66e6"
      },
      "outputs": [
        {
          "output_type": "stream",
          "name": "stderr",
          "text": [
            "<>:1: SyntaxWarning: \"is\" with a literal. Did you mean \"==\"?\n",
            "<>:1: SyntaxWarning: \"is\" with a literal. Did you mean \"==\"?\n",
            "/tmp/ipython-input-189-1783323536.py:1: SyntaxWarning: \"is\" with a literal. Did you mean \"==\"?\n",
            "  5 is 5\n"
          ]
        },
        {
          "output_type": "execute_result",
          "data": {
            "text/plain": [
              "True"
            ]
          },
          "metadata": {},
          "execution_count": 189
        }
      ],
      "source": [
        "5 is 5"
      ]
    },
    {
      "cell_type": "code",
      "execution_count": null,
      "id": "328d89e5",
      "metadata": {
        "id": "328d89e5",
        "outputId": "ae40f776-6178-454b-c518-77cadef8130a"
      },
      "outputs": [
        {
          "data": {
            "text/plain": [
              "False"
            ]
          },
          "execution_count": 232,
          "metadata": {},
          "output_type": "execute_result"
        }
      ],
      "source": [
        "5 is not 5"
      ]
    },
    {
      "cell_type": "code",
      "execution_count": null,
      "id": "00972006",
      "metadata": {
        "id": "00972006",
        "outputId": "29c5598e-e258-4212-c2d7-b93f85899195"
      },
      "outputs": [
        {
          "data": {
            "text/plain": [
              "True"
            ]
          },
          "execution_count": 233,
          "metadata": {},
          "output_type": "execute_result"
        }
      ],
      "source": [
        "6 is not 7"
      ]
    },
    {
      "cell_type": "markdown",
      "id": "40d7cb81",
      "metadata": {
        "id": "40d7cb81"
      },
      "source": [
        "# List\n"
      ]
    },
    {
      "cell_type": "code",
      "execution_count": 191,
      "id": "f7e3da25",
      "metadata": {
        "colab": {
          "base_uri": "https://localhost:8080/"
        },
        "id": "f7e3da25",
        "outputId": "0b498d31-faf2-4786-f013-e6da70b0a87a"
      },
      "outputs": [
        {
          "output_type": "stream",
          "name": "stdout",
          "text": [
            "['apple', 'banana', 'cherry', 5, 'tygh', 5.9]\n"
          ]
        }
      ],
      "source": [
        "thislist = [\"apple\", \"banana\", \"cherry\", 5, \"tygh\",5.9]\n",
        "print(thislist)"
      ]
    },
    {
      "cell_type": "code",
      "execution_count": 192,
      "id": "482c5431",
      "metadata": {
        "colab": {
          "base_uri": "https://localhost:8080/"
        },
        "id": "482c5431",
        "outputId": "5cc87b90-6fea-475d-fa9b-b5528c5c87b6"
      },
      "outputs": [
        {
          "output_type": "execute_result",
          "data": {
            "text/plain": [
              "list"
            ]
          },
          "metadata": {},
          "execution_count": 192
        }
      ],
      "source": [
        "type(thislist)"
      ]
    },
    {
      "cell_type": "code",
      "execution_count": 193,
      "id": "a1e021ac",
      "metadata": {
        "colab": {
          "base_uri": "https://localhost:8080/"
        },
        "id": "a1e021ac",
        "outputId": "20fac816-ebd0-4da8-b103-0cc841e54050"
      },
      "outputs": [
        {
          "output_type": "execute_result",
          "data": {
            "text/plain": [
              "True"
            ]
          },
          "metadata": {},
          "execution_count": 193
        }
      ],
      "source": [
        "\"apple\" in thislist"
      ]
    },
    {
      "cell_type": "code",
      "execution_count": 194,
      "id": "46c22525",
      "metadata": {
        "colab": {
          "base_uri": "https://localhost:8080/"
        },
        "id": "46c22525",
        "outputId": "451632e3-0ae1-4971-fd95-80c12b811012"
      },
      "outputs": [
        {
          "output_type": "execute_result",
          "data": {
            "text/plain": [
              "False"
            ]
          },
          "metadata": {},
          "execution_count": 194
        }
      ],
      "source": [
        "\"apple\" not in thislist"
      ]
    },
    {
      "cell_type": "code",
      "execution_count": 195,
      "id": "9921748c",
      "metadata": {
        "colab": {
          "base_uri": "https://localhost:8080/",
          "height": 36
        },
        "id": "9921748c",
        "outputId": "57a01037-a214-4383-a72e-b4aa2b4ca24e"
      },
      "outputs": [
        {
          "output_type": "execute_result",
          "data": {
            "text/plain": [
              "'apple'"
            ],
            "application/vnd.google.colaboratory.intrinsic+json": {
              "type": "string"
            }
          },
          "metadata": {},
          "execution_count": 195
        }
      ],
      "source": [
        "thislist[0]"
      ]
    },
    {
      "cell_type": "code",
      "execution_count": 196,
      "id": "7d35d7cf",
      "metadata": {
        "colab": {
          "base_uri": "https://localhost:8080/",
          "height": 36
        },
        "id": "7d35d7cf",
        "outputId": "34846033-2a1d-4c9b-a9b5-8a5cb14955f1"
      },
      "outputs": [
        {
          "output_type": "execute_result",
          "data": {
            "text/plain": [
              "'banana'"
            ],
            "application/vnd.google.colaboratory.intrinsic+json": {
              "type": "string"
            }
          },
          "metadata": {},
          "execution_count": 196
        }
      ],
      "source": [
        "thislist[1]"
      ]
    },
    {
      "cell_type": "code",
      "execution_count": null,
      "id": "6d23a7fa",
      "metadata": {
        "id": "6d23a7fa",
        "outputId": "7bc4aa42-0632-444d-9531-5be15cee5943"
      },
      "outputs": [
        {
          "data": {
            "text/plain": [
              "'cherry'"
            ]
          },
          "execution_count": 105,
          "metadata": {},
          "output_type": "execute_result"
        }
      ],
      "source": [
        "thislist[2]"
      ]
    },
    {
      "cell_type": "code",
      "execution_count": 197,
      "id": "951e2748",
      "metadata": {
        "colab": {
          "base_uri": "https://localhost:8080/"
        },
        "id": "951e2748",
        "outputId": "a36b499a-1286-49a1-aeb9-180250184627"
      },
      "outputs": [
        {
          "output_type": "execute_result",
          "data": {
            "text/plain": [
              "5.9"
            ]
          },
          "metadata": {},
          "execution_count": 197
        }
      ],
      "source": [
        "thislist[-1]"
      ]
    },
    {
      "cell_type": "markdown",
      "source": [
        "List Methods\n"
      ],
      "metadata": {
        "id": "v0nLjQ5Q08bl"
      },
      "id": "v0nLjQ5Q08bl"
    },
    {
      "cell_type": "code",
      "execution_count": 198,
      "id": "ef961b6a",
      "metadata": {
        "id": "ef961b6a"
      },
      "outputs": [],
      "source": [
        "x=\"orange\"\n",
        "y=\"mango\""
      ]
    },
    {
      "cell_type": "code",
      "execution_count": 199,
      "id": "d08f8d1d",
      "metadata": {
        "id": "d08f8d1d"
      },
      "outputs": [],
      "source": [
        "thislist.append(x)"
      ]
    },
    {
      "cell_type": "code",
      "execution_count": 200,
      "id": "9618d47b",
      "metadata": {
        "colab": {
          "base_uri": "https://localhost:8080/"
        },
        "id": "9618d47b",
        "outputId": "905e28c0-4e40-408a-ceed-02686995c4b4"
      },
      "outputs": [
        {
          "output_type": "execute_result",
          "data": {
            "text/plain": [
              "['apple', 'banana', 'cherry', 5, 'tygh', 5.9, 'orange']"
            ]
          },
          "metadata": {},
          "execution_count": 200
        }
      ],
      "source": [
        "thislist"
      ]
    },
    {
      "cell_type": "code",
      "execution_count": 201,
      "id": "70edc6ed",
      "metadata": {
        "id": "70edc6ed"
      },
      "outputs": [],
      "source": [
        "thislist.insert(0,y)"
      ]
    },
    {
      "cell_type": "code",
      "execution_count": 202,
      "id": "74afd0a4",
      "metadata": {
        "colab": {
          "base_uri": "https://localhost:8080/"
        },
        "id": "74afd0a4",
        "outputId": "eeeab773-d2bb-4859-ea90-b65418301d11"
      },
      "outputs": [
        {
          "output_type": "execute_result",
          "data": {
            "text/plain": [
              "['mango', 'apple', 'banana', 'cherry', 5, 'tygh', 5.9, 'orange']"
            ]
          },
          "metadata": {},
          "execution_count": 202
        }
      ],
      "source": [
        "thislist"
      ]
    },
    {
      "cell_type": "code",
      "execution_count": 206,
      "id": "1242ffc4",
      "metadata": {
        "colab": {
          "base_uri": "https://localhost:8080/",
          "height": 146
        },
        "id": "1242ffc4",
        "outputId": "9b4acd38-c901-4fa9-da5e-fb4812ba6602"
      },
      "outputs": [
        {
          "output_type": "error",
          "ename": "ValueError",
          "evalue": "list.remove(x): x not in list",
          "traceback": [
            "\u001b[0;31m---------------------------------------------------------------------------\u001b[0m",
            "\u001b[0;31mValueError\u001b[0m                                Traceback (most recent call last)",
            "\u001b[0;32m/tmp/ipython-input-206-877208965.py\u001b[0m in \u001b[0;36m<cell line: 0>\u001b[0;34m()\u001b[0m\n\u001b[0;32m----> 1\u001b[0;31m \u001b[0mthislist\u001b[0m\u001b[0;34m.\u001b[0m\u001b[0mremove\u001b[0m\u001b[0;34m(\u001b[0m\u001b[0;34m\"banana\"\u001b[0m\u001b[0;34m)\u001b[0m\u001b[0;34m\u001b[0m\u001b[0;34m\u001b[0m\u001b[0m\n\u001b[0m",
            "\u001b[0;31mValueError\u001b[0m: list.remove(x): x not in list"
          ]
        }
      ],
      "source": [
        "thislist.remove(\"banana\")"
      ]
    },
    {
      "cell_type": "code",
      "execution_count": 204,
      "id": "2281053f",
      "metadata": {
        "colab": {
          "base_uri": "https://localhost:8080/"
        },
        "id": "2281053f",
        "outputId": "93a7a26d-0889-44fb-9b87-1b1388c68af6"
      },
      "outputs": [
        {
          "output_type": "execute_result",
          "data": {
            "text/plain": [
              "['mango', 'apple', 'cherry', 5, 'tygh', 5.9, 'orange']"
            ]
          },
          "metadata": {},
          "execution_count": 204
        }
      ],
      "source": [
        "thislist"
      ]
    },
    {
      "cell_type": "code",
      "execution_count": null,
      "id": "f0400351",
      "metadata": {
        "id": "f0400351"
      },
      "outputs": [],
      "source": [
        "thislist.reverse()"
      ]
    },
    {
      "cell_type": "code",
      "execution_count": null,
      "id": "2f87da24",
      "metadata": {
        "id": "2f87da24",
        "outputId": "1d60b811-3dcc-41fc-ca0f-a3a26f97fe44"
      },
      "outputs": [
        {
          "data": {
            "text/plain": [
              "['orange', 'cherry', 'apple', 'mango']"
            ]
          },
          "execution_count": 115,
          "metadata": {},
          "output_type": "execute_result"
        }
      ],
      "source": [
        "thislist."
      ]
    },
    {
      "cell_type": "markdown",
      "id": "80418e04",
      "metadata": {
        "id": "80418e04"
      },
      "source": [
        "# Tuples\n",
        "(can not be updated)"
      ]
    },
    {
      "cell_type": "code",
      "execution_count": 209,
      "id": "fe057ae7",
      "metadata": {
        "colab": {
          "base_uri": "https://localhost:8080/"
        },
        "id": "fe057ae7",
        "outputId": "cfef5d8a-d6cf-4aa5-d7b9-76bf2a49dc4c"
      },
      "outputs": [
        {
          "output_type": "stream",
          "name": "stdout",
          "text": [
            "('apple', 'apple', 'banana', 'cherry')\n"
          ]
        }
      ],
      "source": [
        "thistuple = (\"apple\",\"apple\", \"banana\", \"cherry\")\n",
        "print(thistuple)"
      ]
    },
    {
      "cell_type": "code",
      "execution_count": 210,
      "id": "f6917afa",
      "metadata": {
        "colab": {
          "base_uri": "https://localhost:8080/"
        },
        "id": "f6917afa",
        "outputId": "3e53de22-887a-49cd-9274-3444a6bf7bbb"
      },
      "outputs": [
        {
          "output_type": "execute_result",
          "data": {
            "text/plain": [
              "0"
            ]
          },
          "metadata": {},
          "execution_count": 210
        }
      ],
      "source": [
        "thistuple.index(\"apple\")"
      ]
    },
    {
      "cell_type": "code",
      "execution_count": 211,
      "id": "2551521d",
      "metadata": {
        "colab": {
          "base_uri": "https://localhost:8080/"
        },
        "id": "2551521d",
        "outputId": "cb8e753a-6a49-4c7a-b8bb-a6d051a13643"
      },
      "outputs": [
        {
          "output_type": "execute_result",
          "data": {
            "text/plain": [
              "2"
            ]
          },
          "metadata": {},
          "execution_count": 211
        }
      ],
      "source": [
        "thistuple.count(\"apple\")"
      ]
    },
    {
      "cell_type": "code",
      "execution_count": 212,
      "id": "020062ad",
      "metadata": {
        "colab": {
          "base_uri": "https://localhost:8080/",
          "height": 110
        },
        "id": "020062ad",
        "outputId": "e0d7c3c7-d6c0-4d94-d143-c83bbdae6c63"
      },
      "outputs": [
        {
          "output_type": "error",
          "ename": "SyntaxError",
          "evalue": "invalid syntax (ipython-input-212-16040898.py, line 1)",
          "traceback": [
            "\u001b[0;36m  File \u001b[0;32m\"/tmp/ipython-input-212-16040898.py\"\u001b[0;36m, line \u001b[0;32m1\u001b[0m\n\u001b[0;31m    thistuple.\u001b[0m\n\u001b[0m              ^\u001b[0m\n\u001b[0;31mSyntaxError\u001b[0m\u001b[0;31m:\u001b[0m invalid syntax\n"
          ]
        }
      ],
      "source": [
        "thistuple."
      ]
    },
    {
      "cell_type": "markdown",
      "id": "445742aa",
      "metadata": {
        "id": "445742aa"
      },
      "source": [
        "# Set"
      ]
    },
    {
      "cell_type": "code",
      "execution_count": 213,
      "id": "ef85bf46",
      "metadata": {
        "id": "ef85bf46"
      },
      "outputs": [],
      "source": [
        "thisset = {\"apple\",\"apple\", \"banana\", \"cherry\"}\n"
      ]
    },
    {
      "cell_type": "code",
      "execution_count": 214,
      "id": "6c35fb74",
      "metadata": {
        "colab": {
          "base_uri": "https://localhost:8080/"
        },
        "id": "6c35fb74",
        "outputId": "4fa041e2-4b2a-4cf1-db84-f40998ffd97c"
      },
      "outputs": [
        {
          "output_type": "execute_result",
          "data": {
            "text/plain": [
              "{'apple', 'banana', 'cherry'}"
            ]
          },
          "metadata": {},
          "execution_count": 214
        }
      ],
      "source": [
        "thisset"
      ]
    },
    {
      "cell_type": "code",
      "execution_count": 215,
      "id": "1a260e9c",
      "metadata": {
        "id": "1a260e9c"
      },
      "outputs": [],
      "source": [
        "e1 = {\"apple\", \"banana\", \"cherry\"}\n",
        "e2 = {\"apple\", \"mango\"}"
      ]
    },
    {
      "cell_type": "code",
      "execution_count": 217,
      "id": "ce79613b",
      "metadata": {
        "colab": {
          "base_uri": "https://localhost:8080/"
        },
        "id": "ce79613b",
        "outputId": "ca6974e6-c66b-46a8-9780-dac447089611"
      },
      "outputs": [
        {
          "output_type": "execute_result",
          "data": {
            "text/plain": [
              "{'apple', 'banana', 'cherry', 'mango'}"
            ]
          },
          "metadata": {},
          "execution_count": 217
        }
      ],
      "source": [
        "# union\n",
        "e1|e2"
      ]
    },
    {
      "cell_type": "code",
      "execution_count": 218,
      "id": "56fd1f9f",
      "metadata": {
        "colab": {
          "base_uri": "https://localhost:8080/"
        },
        "id": "56fd1f9f",
        "outputId": "f87fa6b8-2200-42c6-8dba-2928486fb6f8"
      },
      "outputs": [
        {
          "output_type": "execute_result",
          "data": {
            "text/plain": [
              "{'apple'}"
            ]
          },
          "metadata": {},
          "execution_count": 218
        }
      ],
      "source": [
        "# intersection\n",
        "e1&e2"
      ]
    },
    {
      "cell_type": "code",
      "execution_count": 219,
      "id": "d0904e84",
      "metadata": {
        "colab": {
          "base_uri": "https://localhost:8080/"
        },
        "id": "d0904e84",
        "outputId": "f6aab62e-fa78-4eab-809e-f6dd6d3458f3"
      },
      "outputs": [
        {
          "output_type": "execute_result",
          "data": {
            "text/plain": [
              "{'banana', 'cherry', 'mango'}"
            ]
          },
          "metadata": {},
          "execution_count": 219
        }
      ],
      "source": [
        "# symmetric difference\n",
        "e1^e2"
      ]
    },
    {
      "cell_type": "code",
      "execution_count": 220,
      "id": "45723052",
      "metadata": {
        "colab": {
          "base_uri": "https://localhost:8080/"
        },
        "id": "45723052",
        "outputId": "43a929af-f67c-45c3-cd83-78a5ac12b2e9"
      },
      "outputs": [
        {
          "output_type": "execute_result",
          "data": {
            "text/plain": [
              "False"
            ]
          },
          "metadata": {},
          "execution_count": 220
        }
      ],
      "source": [
        "e1.issubset(e2)"
      ]
    },
    {
      "cell_type": "code",
      "execution_count": 221,
      "id": "e5c43116",
      "metadata": {
        "colab": {
          "base_uri": "https://localhost:8080/",
          "height": 110
        },
        "id": "e5c43116",
        "outputId": "db9e99a8-6ac2-49c0-ee88-8247d549710d"
      },
      "outputs": [
        {
          "output_type": "error",
          "ename": "SyntaxError",
          "evalue": "invalid syntax (ipython-input-221-4182083344.py, line 1)",
          "traceback": [
            "\u001b[0;36m  File \u001b[0;32m\"/tmp/ipython-input-221-4182083344.py\"\u001b[0;36m, line \u001b[0;32m1\u001b[0m\n\u001b[0;31m    e1.\u001b[0m\n\u001b[0m       ^\u001b[0m\n\u001b[0;31mSyntaxError\u001b[0m\u001b[0;31m:\u001b[0m invalid syntax\n"
          ]
        }
      ],
      "source": [
        "e1."
      ]
    },
    {
      "cell_type": "code",
      "execution_count": null,
      "id": "faa1dee8",
      "metadata": {
        "id": "faa1dee8"
      },
      "outputs": [],
      "source": [
        "# https://www.programiz.com/python-programming/set"
      ]
    },
    {
      "cell_type": "markdown",
      "id": "1348e73e",
      "metadata": {
        "id": "1348e73e"
      },
      "source": [
        "# Dictionary"
      ]
    },
    {
      "cell_type": "code",
      "execution_count": 222,
      "id": "9205cfbf",
      "metadata": {
        "colab": {
          "base_uri": "https://localhost:8080/"
        },
        "id": "9205cfbf",
        "outputId": "afbc2823-0732-4f15-9055-b2ec5fb27350"
      },
      "outputs": [
        {
          "output_type": "stream",
          "name": "stdout",
          "text": [
            "{'brand': 'Ford', 'model': 'Mustang', 'year': 1964}\n"
          ]
        }
      ],
      "source": [
        "thisdict = {\n",
        "  \"brand\": \"Ford\",\n",
        "  \"model\": \"Mustang\",\n",
        "  \"year\": 1964\n",
        "}\n",
        "print(thisdict)"
      ]
    },
    {
      "cell_type": "code",
      "execution_count": 224,
      "id": "b7e92053",
      "metadata": {
        "colab": {
          "base_uri": "https://localhost:8080/"
        },
        "id": "b7e92053",
        "outputId": "1f5ad6a8-166b-482e-e0b7-bc95dd4efe10"
      },
      "outputs": [
        {
          "output_type": "execute_result",
          "data": {
            "text/plain": [
              "dict_items([('brand', 'Ford'), ('model', 'Mustang'), ('year', 1964)])"
            ]
          },
          "metadata": {},
          "execution_count": 224
        }
      ],
      "source": [
        "thisdict.items()"
      ]
    },
    {
      "cell_type": "code",
      "execution_count": 225,
      "id": "fea7782e",
      "metadata": {
        "colab": {
          "base_uri": "https://localhost:8080/"
        },
        "id": "fea7782e",
        "outputId": "7e6d4103-9c58-4128-d220-51fdaeffe5d2"
      },
      "outputs": [
        {
          "output_type": "execute_result",
          "data": {
            "text/plain": [
              "dict_keys(['brand', 'model', 'year'])"
            ]
          },
          "metadata": {},
          "execution_count": 225
        }
      ],
      "source": [
        "thisdict.keys()"
      ]
    },
    {
      "cell_type": "code",
      "execution_count": null,
      "id": "beda52f1",
      "metadata": {
        "id": "beda52f1",
        "outputId": "f6e2876e-92bb-4c7a-a451-7b22fb8e884b"
      },
      "outputs": [
        {
          "data": {
            "text/plain": [
              "dict_values(['Ford', 'Mustang', 1964])"
            ]
          },
          "execution_count": 127,
          "metadata": {},
          "output_type": "execute_result"
        }
      ],
      "source": [
        "thisdict.values()"
      ]
    },
    {
      "cell_type": "code",
      "execution_count": null,
      "id": "3da1c27b",
      "metadata": {
        "id": "3da1c27b",
        "outputId": "b4da84a5-d759-4c81-d48f-615c773c2e4d"
      },
      "outputs": [
        {
          "data": {
            "text/plain": [
              "'Mustang'"
            ]
          },
          "execution_count": 128,
          "metadata": {},
          "output_type": "execute_result"
        }
      ],
      "source": [
        "thisdict[\"model\"]"
      ]
    },
    {
      "cell_type": "code",
      "execution_count": 227,
      "id": "5f3067c9",
      "metadata": {
        "colab": {
          "base_uri": "https://localhost:8080/",
          "height": 110
        },
        "id": "5f3067c9",
        "outputId": "f485cff1-d7b3-4ec2-df54-71120eb04ad3"
      },
      "outputs": [
        {
          "output_type": "error",
          "ename": "SyntaxError",
          "evalue": "invalid syntax (ipython-input-227-2464158971.py, line 1)",
          "traceback": [
            "\u001b[0;36m  File \u001b[0;32m\"/tmp/ipython-input-227-2464158971.py\"\u001b[0;36m, line \u001b[0;32m1\u001b[0m\n\u001b[0;31m    thisdict.\u001b[0m\n\u001b[0m             ^\u001b[0m\n\u001b[0;31mSyntaxError\u001b[0m\u001b[0;31m:\u001b[0m invalid syntax\n"
          ]
        }
      ],
      "source": [
        "thisdict."
      ]
    },
    {
      "cell_type": "code",
      "execution_count": null,
      "id": "2ac44fea",
      "metadata": {
        "id": "2ac44fea"
      },
      "outputs": [],
      "source": [
        "# https://docs.python.org/3/tutorial/datastructures.html"
      ]
    },
    {
      "cell_type": "markdown",
      "id": "fb2cdbe2",
      "metadata": {
        "id": "fb2cdbe2"
      },
      "source": [
        "# Conditional Statement"
      ]
    },
    {
      "cell_type": "code",
      "execution_count": 228,
      "id": "4abe8d6f",
      "metadata": {
        "colab": {
          "base_uri": "https://localhost:8080/"
        },
        "id": "4abe8d6f",
        "outputId": "3f01e4bb-78c2-4b7c-c74a-05d60c8a0df7"
      },
      "outputs": [
        {
          "output_type": "execute_result",
          "data": {
            "text/plain": [
              "True"
            ]
          },
          "metadata": {},
          "execution_count": 228
        }
      ],
      "source": [
        "a=2\n",
        "b=4\n",
        "a<b\n",
        "a!=b"
      ]
    },
    {
      "cell_type": "code",
      "execution_count": 230,
      "id": "8130ccdf",
      "metadata": {
        "colab": {
          "base_uri": "https://localhost:8080/"
        },
        "id": "8130ccdf",
        "outputId": "5603ad0e-950c-4e7e-cc50-41cd79b1c602"
      },
      "outputs": [
        {
          "output_type": "stream",
          "name": "stdout",
          "text": [
            "i'm running\n"
          ]
        }
      ],
      "source": [
        "\n",
        "if a<b:\n",
        "\n",
        "    print(\"i'm running\")\n"
      ]
    },
    {
      "cell_type": "code",
      "execution_count": 232,
      "id": "56ec3509",
      "metadata": {
        "colab": {
          "base_uri": "https://localhost:8080/"
        },
        "id": "56ec3509",
        "outputId": "be2e58ae-9721-48bd-f6fb-20f4626e933f"
      },
      "outputs": [
        {
          "output_type": "stream",
          "name": "stdout",
          "text": [
            "i can do whatever i want to\n"
          ]
        }
      ],
      "source": [
        "\n",
        "if a>b:# False\n",
        "    print(\"i'm running\")\n",
        "print(\"i can do whatever i want to\")"
      ]
    },
    {
      "cell_type": "code",
      "execution_count": 233,
      "id": "7f6eaadc",
      "metadata": {
        "colab": {
          "base_uri": "https://localhost:8080/"
        },
        "id": "7f6eaadc",
        "outputId": "a560ab0b-03ae-4a06-ee88-f94a89ae4d63"
      },
      "outputs": [
        {
          "output_type": "stream",
          "name": "stdout",
          "text": [
            "i'll come in the end\n",
            "i can do whatever i want to\n"
          ]
        }
      ],
      "source": [
        "\n",
        "if a>b:# False\n",
        "    print(\"i'm running\")\n",
        "else:\n",
        "    print(\"i'll come in the end\")\n",
        "\n",
        "print(\"i can do whatever i want to\")"
      ]
    },
    {
      "cell_type": "markdown",
      "id": "1ec2a682",
      "metadata": {
        "id": "1ec2a682"
      },
      "source": [
        "### ELIF"
      ]
    },
    {
      "cell_type": "code",
      "execution_count": null,
      "id": "e58fa997",
      "metadata": {
        "id": "e58fa997"
      },
      "outputs": [],
      "source": [
        "\n",
        "if a>b:# False\n",
        "    print(\"i'm running\")\n",
        "elif a==b:\n",
        "    print(\"elif block one\")\n",
        "elif a<b:\n",
        "    print(\"i'm running\")\n",
        "\n",
        "\n",
        "print(\"i can do whatever i want to\")"
      ]
    },
    {
      "cell_type": "code",
      "execution_count": null,
      "id": "97247c6e",
      "metadata": {
        "id": "97247c6e"
      },
      "outputs": [],
      "source": []
    },
    {
      "cell_type": "markdown",
      "id": "5c45c158",
      "metadata": {
        "id": "5c45c158"
      },
      "source": [
        "### Else rule"
      ]
    },
    {
      "cell_type": "code",
      "execution_count": 234,
      "id": "d36d15db",
      "metadata": {
        "colab": {
          "base_uri": "https://localhost:8080/",
          "height": 110
        },
        "id": "d36d15db",
        "outputId": "c9eb5c08-95a5-48bf-c6ec-7d75731ff471"
      },
      "outputs": [
        {
          "output_type": "error",
          "ename": "SyntaxError",
          "evalue": "invalid syntax (ipython-input-234-2550108223.py, line 7)",
          "traceback": [
            "\u001b[0;36m  File \u001b[0;32m\"/tmp/ipython-input-234-2550108223.py\"\u001b[0;36m, line \u001b[0;32m7\u001b[0m\n\u001b[0;31m    elif a<b:\u001b[0m\n\u001b[0m    ^\u001b[0m\n\u001b[0;31mSyntaxError\u001b[0m\u001b[0;31m:\u001b[0m invalid syntax\n"
          ]
        }
      ],
      "source": [
        "\n",
        "if a>b:# False\n",
        "    print(\"i'm running\")\n",
        "elif a==b:\n",
        "    print(\"elif block one\")\n",
        "else:\n",
        "    print(\"i wont fit before or inside elif\")\n",
        "elif a<b:\n",
        "    print(\"i'm running\")\n",
        "\n",
        "\n",
        "print(\"i can do whatever i want to\")"
      ]
    },
    {
      "cell_type": "code",
      "execution_count": 235,
      "id": "8a33be7c",
      "metadata": {
        "colab": {
          "base_uri": "https://localhost:8080/"
        },
        "id": "8a33be7c",
        "outputId": "e9cfb765-ea5b-4cf1-c26c-91ef7b6e2c76"
      },
      "outputs": [
        {
          "output_type": "stream",
          "name": "stdout",
          "text": [
            "i'm running\n",
            "i can do whatever i want to\n"
          ]
        }
      ],
      "source": [
        "\n",
        "if a>b:# False\n",
        "    print(\"i'm running\")\n",
        "elif a==b:\n",
        "    print(\"elif block one\")\n",
        "elif a<b:\n",
        "    print(\"i'm running\")\n",
        "else:\n",
        "    print(\"now i'm okay\")\n",
        "\n",
        "print(\"i can do whatever i want to\")"
      ]
    },
    {
      "cell_type": "code",
      "execution_count": null,
      "id": "62778ef6",
      "metadata": {
        "id": "62778ef6"
      },
      "outputs": [],
      "source": []
    },
    {
      "cell_type": "markdown",
      "id": "a4f474c0",
      "metadata": {
        "id": "a4f474c0"
      },
      "source": [
        "### Nested IF"
      ]
    },
    {
      "cell_type": "code",
      "execution_count": 236,
      "id": "a582f068",
      "metadata": {
        "colab": {
          "base_uri": "https://localhost:8080/"
        },
        "id": "a582f068",
        "outputId": "be3ffdd5-e28e-46ca-aa1f-ec06dc20c015"
      },
      "outputs": [
        {
          "output_type": "stream",
          "name": "stdout",
          "text": [
            "i'm running\n",
            "i'm hereeeee\n",
            "i can do whatever i want to\n"
          ]
        }
      ],
      "source": [
        "\n",
        "if a<b:# True\n",
        "    print(\"i'm running\")\n",
        "    if a!=b:\n",
        "        print(\"i'm hereeeee\")\n",
        "elif a==b:\n",
        "    print(\"elif block one\")\n",
        "elif a<b:\n",
        "    print(\"i'm running\")\n",
        "else:\n",
        "    print(\"now i'm okay\")\n",
        "\n",
        "print(\"i can do whatever i want to\")"
      ]
    },
    {
      "cell_type": "markdown",
      "id": "ebc6b1a4",
      "metadata": {
        "id": "ebc6b1a4"
      },
      "source": [
        "### and"
      ]
    },
    {
      "cell_type": "code",
      "execution_count": 237,
      "id": "563859a5",
      "metadata": {
        "id": "563859a5"
      },
      "outputs": [],
      "source": [
        "a=2\n",
        "b=4\n",
        "c=6"
      ]
    },
    {
      "cell_type": "code",
      "execution_count": 238,
      "id": "fb6b4246",
      "metadata": {
        "colab": {
          "base_uri": "https://localhost:8080/"
        },
        "id": "fb6b4246",
        "outputId": "28ed3ae6-3e18-4dd0-8cc6-f466c4668051"
      },
      "outputs": [
        {
          "output_type": "stream",
          "name": "stdout",
          "text": [
            "okayy\n"
          ]
        }
      ],
      "source": [
        "if a<b and b<c:\n",
        "    print(\"okayy\")\n"
      ]
    },
    {
      "cell_type": "code",
      "execution_count": 239,
      "id": "60aa9215",
      "metadata": {
        "colab": {
          "base_uri": "https://localhost:8080/"
        },
        "id": "60aa9215",
        "outputId": "8c4e61fe-4662-46a0-93d3-c2e45994d5ca"
      },
      "outputs": [
        {
          "output_type": "stream",
          "name": "stdout",
          "text": [
            "i can do whatever i want to\n"
          ]
        }
      ],
      "source": [
        "if a<b and b==c:\n",
        "    print(\"okayy\")\n",
        "\n",
        "print(\"i can do whatever i want to\")"
      ]
    },
    {
      "cell_type": "markdown",
      "id": "48790537",
      "metadata": {
        "id": "48790537"
      },
      "source": [
        "#### OR"
      ]
    },
    {
      "cell_type": "code",
      "execution_count": 240,
      "id": "bbcd2d21",
      "metadata": {
        "colab": {
          "base_uri": "https://localhost:8080/"
        },
        "id": "bbcd2d21",
        "outputId": "b7c39a77-f94e-43d1-a301-3bf8917cc603"
      },
      "outputs": [
        {
          "output_type": "stream",
          "name": "stdout",
          "text": [
            "okayy\n"
          ]
        }
      ],
      "source": [
        "if a<b or b<c:\n",
        "    print(\"okayy\")\n"
      ]
    },
    {
      "cell_type": "code",
      "execution_count": 241,
      "id": "8d30d82b",
      "metadata": {
        "colab": {
          "base_uri": "https://localhost:8080/"
        },
        "id": "8d30d82b",
        "outputId": "d6930a17-1b1f-4baa-8334-210faf079a0f"
      },
      "outputs": [
        {
          "output_type": "stream",
          "name": "stdout",
          "text": [
            "okayy\n",
            "i can do whatever i want to\n"
          ]
        }
      ],
      "source": [
        "if a<b or b==c:\n",
        "    print(\"okayy\")\n",
        "\n",
        "print(\"i can do whatever i want to\")"
      ]
    },
    {
      "cell_type": "markdown",
      "id": "62de8b7b",
      "metadata": {
        "id": "62de8b7b"
      },
      "source": [
        "# Looping Statement"
      ]
    },
    {
      "cell_type": "code",
      "execution_count": 242,
      "id": "ff888543",
      "metadata": {
        "colab": {
          "base_uri": "https://localhost:8080/"
        },
        "id": "ff888543",
        "outputId": "2fc85836-0245-4b02-f46b-65b4f17cc002"
      },
      "outputs": [
        {
          "output_type": "stream",
          "name": "stdout",
          "text": [
            "0\n",
            "running\n",
            "1\n",
            "running\n",
            "2\n",
            "running\n",
            "3\n",
            "running\n",
            "4\n",
            "running\n",
            "5\n",
            "running\n",
            "6\n",
            "running\n",
            "7\n",
            "running\n",
            "8\n",
            "running\n",
            "9\n",
            "running\n"
          ]
        }
      ],
      "source": [
        "for i in range(10):\n",
        "    print(i)\n",
        "    print(\"running\")\n",
        "\n"
      ]
    },
    {
      "cell_type": "code",
      "execution_count": 246,
      "id": "03430f7e",
      "metadata": {
        "id": "03430f7e"
      },
      "outputs": [],
      "source": [
        "list_example=[1,2,3,4,5]"
      ]
    },
    {
      "cell_type": "code",
      "execution_count": 247,
      "id": "5f0af4a5",
      "metadata": {
        "colab": {
          "base_uri": "https://localhost:8080/"
        },
        "id": "5f0af4a5",
        "outputId": "6e8e906e-d0bc-4c4a-a044-140720414d28"
      },
      "outputs": [
        {
          "output_type": "stream",
          "name": "stdout",
          "text": [
            "3\n",
            "4\n",
            "5\n",
            "6\n",
            "7\n"
          ]
        }
      ],
      "source": [
        "for i in list_example:\n",
        "    print(i+2)"
      ]
    },
    {
      "cell_type": "code",
      "execution_count": 248,
      "id": "f96ebe6c",
      "metadata": {
        "id": "f96ebe6c"
      },
      "outputs": [],
      "source": [
        "tuple_example=[1,2,3,4,5]"
      ]
    },
    {
      "cell_type": "code",
      "execution_count": 249,
      "id": "9b7f9dc2",
      "metadata": {
        "colab": {
          "base_uri": "https://localhost:8080/"
        },
        "id": "9b7f9dc2",
        "outputId": "729ef3c7-c529-4c00-e336-27514719d43e"
      },
      "outputs": [
        {
          "output_type": "stream",
          "name": "stdout",
          "text": [
            "1\n",
            "2\n",
            "3\n",
            "4\n",
            "5\n"
          ]
        }
      ],
      "source": [
        "for i in tuple_example:\n",
        "    print(i)"
      ]
    },
    {
      "cell_type": "code",
      "execution_count": 250,
      "id": "7e1662f3",
      "metadata": {
        "colab": {
          "base_uri": "https://localhost:8080/"
        },
        "id": "7e1662f3",
        "outputId": "6137b247-b358-43c0-c63b-6ea373aed800"
      },
      "outputs": [
        {
          "output_type": "stream",
          "name": "stdout",
          "text": [
            "key :  name , value :  salman\n",
            "key :  from , value :  TN\n"
          ]
        }
      ],
      "source": [
        "dict_example={\"name\":\"salman\",\"from\":\"TN\"}\n",
        "\n",
        "for i,j in dict_example.items():\n",
        "    print(\"key : \",i, \", value : \",j)"
      ]
    },
    {
      "cell_type": "code",
      "execution_count": 251,
      "id": "e165bccf",
      "metadata": {
        "colab": {
          "base_uri": "https://localhost:8080/"
        },
        "id": "e165bccf",
        "outputId": "0697864e-b480-43e3-ed34-140817f46a4c"
      },
      "outputs": [
        {
          "output_type": "stream",
          "name": "stdout",
          "text": [
            "0\n",
            "1\n",
            "2\n",
            "3\n",
            "4\n",
            "5\n",
            "6\n",
            "7\n",
            "8\n",
            "9\n"
          ]
        }
      ],
      "source": [
        "a=0\n",
        "while a<10:\n",
        "    print(a)\n",
        "    # below line satisfies the condition\n",
        "    a=a+1"
      ]
    },
    {
      "cell_type": "code",
      "execution_count": 252,
      "id": "08a73dd5",
      "metadata": {
        "colab": {
          "base_uri": "https://localhost:8080/"
        },
        "id": "08a73dd5",
        "outputId": "04014ac4-c02c-4649-898d-bdaa316a0be7"
      },
      "outputs": [
        {
          "output_type": "stream",
          "name": "stdout",
          "text": [
            "0\n",
            "1\n",
            "2\n",
            "3\n",
            "4\n",
            "6\n",
            "7\n",
            "8\n",
            "9\n"
          ]
        }
      ],
      "source": [
        "for i in range(0,10,1):\n",
        "    if i==5:\n",
        "        continue\n",
        "    print(i)"
      ]
    },
    {
      "cell_type": "markdown",
      "id": "a68b69a5",
      "metadata": {
        "id": "a68b69a5"
      },
      "source": [
        "# Exception Handling"
      ]
    },
    {
      "cell_type": "code",
      "execution_count": 254,
      "id": "dd67a159",
      "metadata": {
        "colab": {
          "base_uri": "https://localhost:8080/"
        },
        "id": "dd67a159",
        "outputId": "4ac84aac-1c9a-407b-df25-07bb8a0a31ce"
      },
      "outputs": [
        {
          "output_type": "stream",
          "name": "stdout",
          "text": [
            "value of c is  1.0\n",
            "if not error ill come\n",
            "this prints whatever happens\n"
          ]
        }
      ],
      "source": [
        "try:\n",
        "    a=10\n",
        "    b=10\n",
        "    c=a/b\n",
        "    print(\"value of c is \" ,c )\n",
        "\n",
        "\n",
        "except:\n",
        "    print('you cant divide a number by zero\\n')\n",
        "\n",
        "\n",
        "else:\n",
        "    print(\"if not error ill come\")\n",
        "\n",
        "\n",
        "finally:\n",
        "    print(\"this prints whatever happens\")"
      ]
    },
    {
      "cell_type": "markdown",
      "id": "749de65d",
      "metadata": {
        "id": "749de65d"
      },
      "source": [
        "# Function"
      ]
    },
    {
      "cell_type": "code",
      "execution_count": 255,
      "id": "2470155f",
      "metadata": {
        "id": "2470155f"
      },
      "outputs": [],
      "source": [
        "# a and b are parameters\n",
        "def add(a,b):\n",
        "\n",
        "    print(\"sum is\",a+b)\n",
        ""
      ]
    },
    {
      "cell_type": "code",
      "execution_count": 256,
      "id": "ada42027",
      "metadata": {
        "colab": {
          "base_uri": "https://localhost:8080/"
        },
        "id": "ada42027",
        "outputId": "cde87888-c2a2-41c1-9207-8a097e6274a1"
      },
      "outputs": [
        {
          "output_type": "stream",
          "name": "stdout",
          "text": [
            "sum is 25\n"
          ]
        }
      ],
      "source": [
        "# 10 and 15 are arguments\n",
        "add(10,15)"
      ]
    },
    {
      "cell_type": "code",
      "execution_count": 257,
      "id": "ca093611",
      "metadata": {
        "colab": {
          "base_uri": "https://localhost:8080/"
        },
        "id": "ca093611",
        "outputId": "a3235a24-de77-4907-f679-5072d323d49f"
      },
      "outputs": [
        {
          "output_type": "stream",
          "name": "stdout",
          "text": [
            "sum is 25\n"
          ]
        }
      ],
      "source": [
        "output=add(10,15)"
      ]
    },
    {
      "cell_type": "code",
      "execution_count": 258,
      "id": "edf2f26a",
      "metadata": {
        "colab": {
          "base_uri": "https://localhost:8080/"
        },
        "id": "edf2f26a",
        "outputId": "a64be201-461e-4cc1-eb26-2d4574cf42dc"
      },
      "outputs": [
        {
          "output_type": "stream",
          "name": "stdout",
          "text": [
            "None\n"
          ]
        }
      ],
      "source": [
        "# nothing is stored because nothing is returned\n",
        "print(output)"
      ]
    },
    {
      "cell_type": "code",
      "execution_count": 259,
      "id": "8d774459",
      "metadata": {
        "id": "8d774459"
      },
      "outputs": [],
      "source": [
        "def my_function(x):\n",
        "\n",
        "    a=x+5\n",
        "    return a"
      ]
    },
    {
      "cell_type": "code",
      "execution_count": 260,
      "id": "d94b1fd6",
      "metadata": {
        "id": "d94b1fd6"
      },
      "outputs": [],
      "source": [
        "nk=my_function(3)"
      ]
    },
    {
      "cell_type": "code",
      "execution_count": 261,
      "id": "785c2b77",
      "metadata": {
        "colab": {
          "base_uri": "https://localhost:8080/"
        },
        "id": "785c2b77",
        "outputId": "dd732f8a-ac50-41c3-f725-617dd5d64e1e"
      },
      "outputs": [
        {
          "output_type": "execute_result",
          "data": {
            "text/plain": [
              "8"
            ]
          },
          "metadata": {},
          "execution_count": 261
        }
      ],
      "source": [
        "nk"
      ]
    },
    {
      "cell_type": "code",
      "execution_count": 262,
      "id": "a7d84c9c",
      "metadata": {
        "id": "a7d84c9c"
      },
      "outputs": [],
      "source": [
        "def test_function(a=2):\n",
        "\n",
        "    a=a+5\n",
        "    return a\n",
        "\n"
      ]
    },
    {
      "cell_type": "code",
      "execution_count": 263,
      "id": "667daec0",
      "metadata": {
        "colab": {
          "base_uri": "https://localhost:8080/"
        },
        "id": "667daec0",
        "outputId": "891605e2-6b60-43a5-d76f-ca1428b8f809"
      },
      "outputs": [
        {
          "output_type": "execute_result",
          "data": {
            "text/plain": [
              "7"
            ]
          },
          "metadata": {},
          "execution_count": 263
        }
      ],
      "source": [
        "test_function()"
      ]
    },
    {
      "cell_type": "code",
      "execution_count": 264,
      "id": "9b93d7df",
      "metadata": {
        "colab": {
          "base_uri": "https://localhost:8080/"
        },
        "id": "9b93d7df",
        "outputId": "7a77d640-b047-4cf8-e44d-a5976ae636c8"
      },
      "outputs": [
        {
          "output_type": "execute_result",
          "data": {
            "text/plain": [
              "10"
            ]
          },
          "metadata": {},
          "execution_count": 264
        }
      ],
      "source": [
        "test_function(5)"
      ]
    },
    {
      "cell_type": "code",
      "execution_count": null,
      "id": "b5f58801",
      "metadata": {
        "id": "b5f58801",
        "outputId": "589c56bd-197e-4913-d25f-10b3c58ebd17"
      },
      "outputs": [
        {
          "ename": "SyntaxError",
          "evalue": "non-default argument follows default argument (1748649523.py, line 1)",
          "output_type": "error",
          "traceback": [
            "\u001b[1;36m  File \u001b[1;32m\"C:\\Users\\faroz\\AppData\\Local\\Temp\\ipykernel_34940\\1748649523.py\"\u001b[1;36m, line \u001b[1;32m1\u001b[0m\n\u001b[1;33m    def mine(a=2, b, c=10):\u001b[0m\n\u001b[1;37m            ^\u001b[0m\n\u001b[1;31mSyntaxError\u001b[0m\u001b[1;31m:\u001b[0m non-default argument follows default argument\n"
          ]
        }
      ],
      "source": [
        "def mine(a=2, b, c=10):\n",
        "\n",
        "    a=a+5\n",
        "    return a\n"
      ]
    },
    {
      "cell_type": "code",
      "execution_count": 268,
      "id": "a21edbbd",
      "metadata": {
        "colab": {
          "base_uri": "https://localhost:8080/"
        },
        "id": "a21edbbd",
        "outputId": "bfaf64d5-eb3e-49e1-a20d-766930c1d67a"
      },
      "outputs": [
        {
          "output_type": "stream",
          "name": "stdout",
          "text": [
            "7\n"
          ]
        }
      ],
      "source": [
        "def mine(b, a=2, c=10):\n",
        "\n",
        "    a=b+5\n",
        "    return a\n",
        "add = mine(2)\n",
        "print(add)"
      ]
    },
    {
      "cell_type": "markdown",
      "id": "3fa8dc15",
      "metadata": {
        "id": "3fa8dc15"
      },
      "source": [
        "# Lambda function"
      ]
    },
    {
      "cell_type": "markdown",
      "id": "f63f370b",
      "metadata": {
        "id": "f63f370b"
      },
      "source": [
        "![alt text](https://i1.faceprep.in/Companies-1/python-lambda-functions-new.png)"
      ]
    },
    {
      "cell_type": "code",
      "execution_count": 269,
      "id": "4dad6a76",
      "metadata": {
        "id": "4dad6a76"
      },
      "outputs": [],
      "source": [
        "x = lambda b:b + 100"
      ]
    },
    {
      "cell_type": "code",
      "execution_count": 270,
      "id": "6df495ce",
      "metadata": {
        "colab": {
          "base_uri": "https://localhost:8080/"
        },
        "id": "6df495ce",
        "outputId": "4001d726-9288-4ba9-88d7-769a8aa6cda1"
      },
      "outputs": [
        {
          "output_type": "execute_result",
          "data": {
            "text/plain": [
              "101"
            ]
          },
          "metadata": {},
          "execution_count": 270
        }
      ],
      "source": [
        "x(1)"
      ]
    },
    {
      "cell_type": "code",
      "execution_count": 271,
      "id": "2986a33a",
      "metadata": {
        "id": "2986a33a"
      },
      "outputs": [],
      "source": [
        "def add(a , b):\n",
        "    print(a+b)"
      ]
    },
    {
      "cell_type": "code",
      "execution_count": 273,
      "id": "fd370543",
      "metadata": {
        "colab": {
          "base_uri": "https://localhost:8080/"
        },
        "id": "fd370543",
        "outputId": "1e011944-8cb5-4c67-b4af-32f5cc15df6b"
      },
      "outputs": [
        {
          "output_type": "stream",
          "name": "stdout",
          "text": [
            "3\n"
          ]
        }
      ],
      "source": [
        "add(1,2)"
      ]
    },
    {
      "cell_type": "code",
      "execution_count": 274,
      "id": "c0de85b3",
      "metadata": {
        "colab": {
          "base_uri": "https://localhost:8080/",
          "height": 146
        },
        "id": "c0de85b3",
        "outputId": "2017ba53-60a0-4c9d-dc29-20124569cead"
      },
      "outputs": [
        {
          "output_type": "error",
          "ename": "TypeError",
          "evalue": "add() takes 2 positional arguments but 3 were given",
          "traceback": [
            "\u001b[0;31m---------------------------------------------------------------------------\u001b[0m",
            "\u001b[0;31mTypeError\u001b[0m                                 Traceback (most recent call last)",
            "\u001b[0;32m/tmp/ipython-input-274-543418414.py\u001b[0m in \u001b[0;36m<cell line: 0>\u001b[0;34m()\u001b[0m\n\u001b[0;32m----> 1\u001b[0;31m \u001b[0madd\u001b[0m\u001b[0;34m(\u001b[0m\u001b[0;36m1\u001b[0m\u001b[0;34m,\u001b[0m\u001b[0;36m2\u001b[0m\u001b[0;34m,\u001b[0m\u001b[0;36m3\u001b[0m\u001b[0;34m)\u001b[0m\u001b[0;34m\u001b[0m\u001b[0;34m\u001b[0m\u001b[0m\n\u001b[0m",
            "\u001b[0;31mTypeError\u001b[0m: add() takes 2 positional arguments but 3 were given"
          ]
        }
      ],
      "source": [
        "add(1,2,3)"
      ]
    },
    {
      "cell_type": "markdown",
      "id": "95678494",
      "metadata": {
        "id": "95678494"
      },
      "source": [
        "\n",
        "### *args (Non Keyword Arguments)"
      ]
    },
    {
      "cell_type": "code",
      "execution_count": 275,
      "id": "81eea62a",
      "metadata": {
        "id": "81eea62a"
      },
      "outputs": [],
      "source": [
        "def test(*values):\n",
        "    print(values)\n",
        "    print(type(values))"
      ]
    },
    {
      "cell_type": "code",
      "execution_count": 276,
      "id": "267683e4",
      "metadata": {
        "colab": {
          "base_uri": "https://localhost:8080/"
        },
        "id": "267683e4",
        "outputId": "7c1360b7-000b-429e-9384-862d109bba99"
      },
      "outputs": [
        {
          "output_type": "stream",
          "name": "stdout",
          "text": [
            "(1, 3, 2, 4)\n",
            "<class 'tuple'>\n"
          ]
        }
      ],
      "source": [
        "test(1,3,2,4)"
      ]
    },
    {
      "cell_type": "code",
      "execution_count": 277,
      "id": "ad41aae5",
      "metadata": {
        "id": "ad41aae5"
      },
      "outputs": [],
      "source": [
        "def test(*values):\n",
        "    for i in values:\n",
        "        i=i+i\n",
        "    print(i)"
      ]
    },
    {
      "cell_type": "code",
      "execution_count": 278,
      "id": "dbf962a5",
      "metadata": {
        "colab": {
          "base_uri": "https://localhost:8080/"
        },
        "id": "dbf962a5",
        "outputId": "a8558ab7-b203-4976-ff73-d3be3000a6c4"
      },
      "outputs": [
        {
          "output_type": "stream",
          "name": "stdout",
          "text": [
            "6\n"
          ]
        }
      ],
      "source": [
        "test(4,3)"
      ]
    },
    {
      "cell_type": "markdown",
      "id": "dc85c2b8",
      "metadata": {
        "id": "dc85c2b8"
      },
      "source": [
        "### **kwargs (Keyword Arguments)"
      ]
    },
    {
      "cell_type": "code",
      "execution_count": null,
      "id": "bd7aa123",
      "metadata": {
        "id": "bd7aa123",
        "outputId": "688c03ec-3f83-4472-964a-2ad3f3afb692"
      },
      "outputs": [
        {
          "name": "stdout",
          "output_type": "stream",
          "text": [
            "<class 'dict'>\n",
            "Name is salman\n",
            "Loction is tn\n"
          ]
        }
      ],
      "source": [
        "def mine(**values):\n",
        "    print(type(values))\n",
        "    for key, value in values.items():\n",
        "        print(\"{} is {}\".format(key,value))\n",
        "\n",
        "mine(Name=\"salman\",Loction=\"tn\")"
      ]
    },
    {
      "cell_type": "markdown",
      "id": "fc747070",
      "metadata": {
        "id": "fc747070"
      },
      "source": [
        "# Class"
      ]
    },
    {
      "cell_type": "code",
      "execution_count": null,
      "id": "2f350121",
      "metadata": {
        "id": "2f350121"
      },
      "outputs": [],
      "source": [
        "class collge:\n",
        "\n",
        "    #optional\n",
        "    # constructor\n",
        "    def __init__(self, user=\"sir/madam\"):\n",
        "        print(\"welcome to our college\", user)\n",
        "\n",
        "    def mech(self):\n",
        "        print(\"mech dept book fees is 10k\")\n",
        "\n",
        "    def eee(self):\n",
        "        print(\"eee dept book fees is 20k\")\n",
        "\n",
        "    def ece(self):\n",
        "        print(\"ece dept book fees is 30k\")\n",
        "\n",
        "    #optional\n",
        "    # destructor\n",
        "    def __del__(self):\n",
        "        print(\"used to destroy the object\")"
      ]
    },
    {
      "cell_type": "code",
      "execution_count": null,
      "id": "297bce36",
      "metadata": {
        "id": "297bce36",
        "outputId": "4fe75012-7e22-4f0e-e3a8-04a5e00586fa"
      },
      "outputs": [
        {
          "name": "stdout",
          "output_type": "stream",
          "text": [
            "welcome to our college AK\n"
          ]
        }
      ],
      "source": [
        "obj=collge(user=\"AK\")"
      ]
    },
    {
      "cell_type": "code",
      "execution_count": null,
      "id": "82f9516a",
      "metadata": {
        "id": "82f9516a",
        "outputId": "9cb87fe9-4ccb-41c4-fe7f-c097e0e173b1"
      },
      "outputs": [
        {
          "name": "stdout",
          "output_type": "stream",
          "text": [
            "mech dept book fees is 10k\n"
          ]
        }
      ],
      "source": [
        "obj.mech()"
      ]
    },
    {
      "cell_type": "code",
      "execution_count": null,
      "id": "be1e4a9d",
      "metadata": {
        "id": "be1e4a9d",
        "outputId": "024b66cb-2156-4c11-e5ea-4e53053e845d"
      },
      "outputs": [
        {
          "name": "stdout",
          "output_type": "stream",
          "text": [
            "used to destroy the object\n"
          ]
        }
      ],
      "source": [
        "del obj"
      ]
    },
    {
      "cell_type": "code",
      "execution_count": null,
      "id": "21cdffba",
      "metadata": {
        "id": "21cdffba",
        "outputId": "c0ded561-d3e6-49b6-efd3-1d32b8fab640"
      },
      "outputs": [
        {
          "ename": "NameError",
          "evalue": "name 'obj' is not defined",
          "output_type": "error",
          "traceback": [
            "\u001b[1;31m---------------------------------------------------------------------------\u001b[0m",
            "\u001b[1;31mNameError\u001b[0m                                 Traceback (most recent call last)",
            "\u001b[1;32m~\\AppData\\Local\\Temp\\ipykernel_34940\\2073420049.py\u001b[0m in \u001b[0;36m<module>\u001b[1;34m\u001b[0m\n\u001b[1;32m----> 1\u001b[1;33m \u001b[0mobj\u001b[0m\u001b[1;33m.\u001b[0m\u001b[0mmech\u001b[0m\u001b[1;33m(\u001b[0m\u001b[1;33m)\u001b[0m\u001b[1;33m\u001b[0m\u001b[1;33m\u001b[0m\u001b[0m\n\u001b[0m",
            "\u001b[1;31mNameError\u001b[0m: name 'obj' is not defined"
          ]
        }
      ],
      "source": [
        "obj.mech()"
      ]
    },
    {
      "cell_type": "code",
      "execution_count": null,
      "id": "8d86b38d",
      "metadata": {
        "id": "8d86b38d"
      },
      "outputs": [],
      "source": [
        "class Person:\n",
        "\n",
        "    def add(self, name):\n",
        "        self.name = name\n",
        "\n",
        "    def myfunc(self):\n",
        "        print(\"Hello my name is \" + self.name)\n",
        "\n"
      ]
    },
    {
      "cell_type": "code",
      "execution_count": null,
      "id": "70f22244",
      "metadata": {
        "id": "70f22244"
      },
      "outputs": [],
      "source": [
        "p1 = Person()\n",
        "p1.add(\"stsfaroz\")"
      ]
    },
    {
      "cell_type": "markdown",
      "id": "67082e04",
      "metadata": {
        "id": "67082e04"
      },
      "source": [
        "# Example:"
      ]
    },
    {
      "cell_type": "code",
      "execution_count": 207,
      "id": "35147301",
      "metadata": {
        "id": "35147301"
      },
      "outputs": [],
      "source": [
        "class calci:\n",
        "    def __init__(self):\n",
        "        print(\"Welcome to my calci\")\n",
        "    def add(self,a,b):\n",
        "        print(\"adding\",a+b)\n",
        "    def sub(self,a,b):\n",
        "        print(\"sub : \",a-b)\n",
        "    def mul(self,a,b):\n",
        "        print(\"mul :\",a*b)\n",
        "    def div(self,a,b):\n",
        "        print(\"div :\",a/b)"
      ]
    },
    {
      "cell_type": "code",
      "execution_count": 208,
      "id": "4e72a0dc",
      "metadata": {
        "colab": {
          "base_uri": "https://localhost:8080/"
        },
        "id": "4e72a0dc",
        "outputId": "19493bac-8b35-4cf2-c398-3f1efeaf57ca"
      },
      "outputs": [
        {
          "output_type": "stream",
          "name": "stdout",
          "text": [
            "Welcome to my calci\n",
            "div : 0.6666666666666666\n"
          ]
        }
      ],
      "source": [
        "obj=calci()\n",
        "obj.div(2,3)"
      ]
    },
    {
      "cell_type": "code",
      "execution_count": 3,
      "id": "4002d376",
      "metadata": {
        "colab": {
          "base_uri": "https://localhost:8080/",
          "height": 164
        },
        "id": "4002d376",
        "outputId": "798f29d3-216c-4ee2-ff37-32daee6af7a8"
      },
      "outputs": [
        {
          "output_type": "error",
          "ename": "NameError",
          "evalue": "name 'reverse' is not defined",
          "traceback": [
            "\u001b[0;31m---------------------------------------------------------------------------\u001b[0m",
            "\u001b[0;31mNameError\u001b[0m                                 Traceback (most recent call last)",
            "\u001b[0;32m/tmp/ipython-input-3-3380686196.py\u001b[0m in \u001b[0;36m<cell line: 0>\u001b[0;34m()\u001b[0m\n\u001b[1;32m      1\u001b[0m \u001b[0mnums\u001b[0m \u001b[0;34m=\u001b[0m \u001b[0;34m[\u001b[0m\u001b[0;36m1\u001b[0m\u001b[0;34m,\u001b[0m\u001b[0;36m2\u001b[0m\u001b[0;34m,\u001b[0m\u001b[0;36m3\u001b[0m\u001b[0;34m,\u001b[0m\u001b[0;36m343\u001b[0m\u001b[0;34m,\u001b[0m\u001b[0;36m65\u001b[0m\u001b[0;34m,\u001b[0m\u001b[0;36m767\u001b[0m\u001b[0;34m,\u001b[0m\u001b[0;36m7\u001b[0m\u001b[0;34m,\u001b[0m\u001b[0;36m86\u001b[0m\u001b[0;34m,\u001b[0m\u001b[0;36m4\u001b[0m\u001b[0;34m,\u001b[0m\u001b[0;36m5\u001b[0m\u001b[0;34m,\u001b[0m\u001b[0;36m6556634\u001b[0m\u001b[0;34m,\u001b[0m\u001b[0;36m343\u001b[0m\u001b[0;34m,\u001b[0m\u001b[0;36m54\u001b[0m\u001b[0;34m,\u001b[0m\u001b[0;36m6657\u001b[0m\u001b[0;34m,\u001b[0m\u001b[0;36m767\u001b[0m\u001b[0;34m,\u001b[0m\u001b[0;36m10\u001b[0m\u001b[0;34m,\u001b[0m\u001b[0;36m45\u001b[0m\u001b[0;34m,\u001b[0m\u001b[0;36m4322\u001b[0m\u001b[0;34m,\u001b[0m\u001b[0;36m3235\u001b[0m\u001b[0;34m,\u001b[0m\u001b[0;36m4\u001b[0m\u001b[0;34m,\u001b[0m\u001b[0;36m12\u001b[0m\u001b[0;34m,\u001b[0m\u001b[0;36m65\u001b[0m\u001b[0;34m,\u001b[0m\u001b[0;36m77\u001b[0m\u001b[0;34m]\u001b[0m\u001b[0;34m\u001b[0m\u001b[0;34m\u001b[0m\u001b[0m\n\u001b[0;32m----> 2\u001b[0;31m \u001b[0mreverse\u001b[0m\u001b[0;34m.\u001b[0m\u001b[0mnums\u001b[0m\u001b[0;34m\u001b[0m\u001b[0;34m\u001b[0m\u001b[0m\n\u001b[0m",
            "\u001b[0;31mNameError\u001b[0m: name 'reverse' is not defined"
          ]
        }
      ],
      "source": [
        "nums = [1,2,3,343,65,767,7,86,4,5,6556634,343,54,6657,767,10,45,4322,3235,4,12,65,77]\n",
        "sort.nums"
      ]
    },
    {
      "cell_type": "code",
      "execution_count": 11,
      "id": "93105da3",
      "metadata": {
        "colab": {
          "base_uri": "https://localhost:8080/"
        },
        "id": "93105da3",
        "outputId": "51941609-517a-4481-d7ec-ff6ad101ef21"
      },
      "outputs": [
        {
          "output_type": "stream",
          "name": "stdout",
          "text": [
            "[23, 45, 23, 53, 5]\n",
            "[22, 45, 23, 53, 5]\n"
          ]
        }
      ],
      "source": [
        "list1=[23,45,23,53,5]\n",
        "list2=list1.copy()\n",
        "list2[0]=22\n",
        "print(list1)\n",
        "print(list2)"
      ]
    },
    {
      "cell_type": "code",
      "execution_count": 13,
      "id": "21212903",
      "metadata": {
        "colab": {
          "base_uri": "https://localhost:8080/"
        },
        "id": "21212903",
        "outputId": "ca70d63c-0064-4f6c-ef86-3b04a7b0d7fc"
      },
      "outputs": [
        {
          "output_type": "stream",
          "name": "stdout",
          "text": [
            "[[12, 23, 44, 34], [32, 434, 54, 6, 5666, 5, 209]]\n",
            "[[22, 23, 44, 34], [32, 434, 54, 6, 5666, 5, 209]]\n"
          ]
        }
      ],
      "source": [
        "import copy\n",
        "list1=[[12,23,44,34],[32,434,54,6,5666,5,209]]\n",
        "list2=copy.deepcopy(list1)\n",
        "list2[0][0]=22\n",
        "print(list1)\n",
        "print(list2)"
      ]
    },
    {
      "cell_type": "code",
      "execution_count": 14,
      "id": "a5b0bc9c",
      "metadata": {
        "colab": {
          "base_uri": "https://localhost:8080/"
        },
        "id": "a5b0bc9c",
        "outputId": "3c664f24-7749-479e-ab77-074b31d65190"
      },
      "outputs": [
        {
          "output_type": "execute_result",
          "data": {
            "text/plain": [
              "['djkjkj', 'dsgyu', 'eiyu']"
            ]
          },
          "metadata": {},
          "execution_count": 14
        }
      ],
      "source": [
        "fruits=['djkjkj','dsgyu','eiyu']\n",
        "fruits.copy()"
      ]
    },
    {
      "cell_type": "code",
      "source": [
        "lsit=(12,)\n",
        "print(list)\n",
        "\n",
        "typle=('hjjhj',)\n",
        "print(typle)"
      ],
      "metadata": {
        "colab": {
          "base_uri": "https://localhost:8080/"
        },
        "id": "FrNdKujBeOjf",
        "outputId": "ff6380cf-da54-408b-f428-47e1b603784c"
      },
      "id": "FrNdKujBeOjf",
      "execution_count": 18,
      "outputs": [
        {
          "output_type": "stream",
          "name": "stdout",
          "text": [
            "<class 'list'>\n",
            "('hjjhj',)\n"
          ]
        }
      ]
    },
    {
      "cell_type": "code",
      "source": [
        "list1=[1,2,3,4,5,6,7]\n",
        "list2=list1[2:5]\n",
        "print(list2)"
      ],
      "metadata": {
        "colab": {
          "base_uri": "https://localhost:8080/"
        },
        "id": "25z1EDcMeurS",
        "outputId": "7b2dbae4-323c-4e72-cfd9-c3c6b6b4ef88"
      },
      "id": "25z1EDcMeurS",
      "execution_count": 19,
      "outputs": [
        {
          "output_type": "stream",
          "name": "stdout",
          "text": [
            "[3, 4, 5]\n"
          ]
        }
      ]
    },
    {
      "cell_type": "code",
      "source": [],
      "metadata": {
        "id": "EDoY0aF3gKEq"
      },
      "id": "EDoY0aF3gKEq",
      "execution_count": null,
      "outputs": []
    },
    {
      "cell_type": "code",
      "metadata": {
        "id": "6724772e"
      },
      "source": [
        "# Reversing a list\n",
        "my_list = [1, 2, 3, 4, 5]\n",
        "my_list.reverse()\n",
        "print(\"Reversed list:\", my_list)\n",
        "\n",
        "# Alternatively, using slicing\n",
        "another_list = [6, 7, 8, 9, 10]\n",
        "reversed_list = another_list[::-1]\n",
        "print(\"Reversed list using slicing:\", reversed_list)"
      ],
      "id": "6724772e",
      "execution_count": null,
      "outputs": []
    },
    {
      "cell_type": "markdown",
      "metadata": {
        "id": "be7a5b13"
      },
      "source": [
        "Here's the code for reversing a string:"
      ],
      "id": "be7a5b13"
    },
    {
      "cell_type": "code",
      "metadata": {
        "id": "7a4f4312"
      },
      "source": [
        "# Reversing a string\n",
        "my_string = \"hello\"\n",
        "reversed_string = my_string[::-1]\n",
        "print(\"Reversed string:\", reversed_string)"
      ],
      "id": "7a4f4312",
      "execution_count": null,
      "outputs": []
    },
    {
      "cell_type": "code",
      "metadata": {
        "id": "38991920"
      },
      "source": [
        "# Reversing a dictionary (creating a new one with reversed key-value pairs)\n",
        "my_dict = {\"a\": 1, \"b\": 2, \"c\": 3}\n",
        "reversed_dict = {value: key for key, value in my_dict.items()}\n",
        "print(\"Reversed dictionary:\", reversed_dict)"
      ],
      "id": "38991920",
      "execution_count": null,
      "outputs": []
    },
    {
      "cell_type": "code",
      "metadata": {
        "id": "f2670b65"
      },
      "source": [
        "# Reversing a set (by converting to a list and reversing)\n",
        "my_set = {1, 2, 3, 4, 5}\n",
        "my_list_from_set = list(my_set)\n",
        "my_list_from_set.reverse()\n",
        "print(\"Reversed set (as a list):\", my_list_from_set)\n",
        "\n",
        "# Alternatively, using sorted() with reverse=True\n",
        "another_set = {6, 7, 8, 9, 10}\n",
        "sorted_reversed_list_from_set = sorted(another_set, reverse=True)\n",
        "print(\"Reversed set (as a sorted list):\", sorted_reversed_list_from_set)"
      ],
      "id": "f2670b65",
      "execution_count": null,
      "outputs": []
    }
  ],
  "metadata": {
    "kernelspec": {
      "display_name": "Python 3 (ipykernel)",
      "language": "python",
      "name": "python3"
    },
    "language_info": {
      "codemirror_mode": {
        "name": "ipython",
        "version": 3
      },
      "file_extension": ".py",
      "mimetype": "text/x-python",
      "name": "python",
      "nbconvert_exporter": "python",
      "pygments_lexer": "ipython3",
      "version": "3.7.13"
    },
    "colab": {
      "provenance": []
    }
  },
  "nbformat": 4,
  "nbformat_minor": 5
}